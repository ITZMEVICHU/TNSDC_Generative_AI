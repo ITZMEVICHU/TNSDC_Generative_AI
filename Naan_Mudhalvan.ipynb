{
  "cells": [
    {
      "cell_type": "markdown",
      "source": [
        "# ***Bank-Customer-Churn-Prediction***\n",
        "**953621104060**\n",
        "\n",
        "**Vishnu A**"
      ],
      "metadata": {
        "id": "ICh-Oyt_JQVX"
      },
      "id": "ICh-Oyt_JQVX"
    },
    {
      "cell_type": "markdown",
      "source": [
        "# Packages Import"
      ],
      "metadata": {
        "id": "61TeYRMKJKGT"
      },
      "id": "61TeYRMKJKGT"
    },
    {
      "cell_type": "code",
      "source": [
        "pip install numpy"
      ],
      "metadata": {
        "colab": {
          "base_uri": "https://localhost:8080/"
        },
        "id": "jrxT50uuThYg",
        "outputId": "35be3fc9-3f42-4da3-f634-89243e66ddf5"
      },
      "id": "jrxT50uuThYg",
      "execution_count": null,
      "outputs": [
        {
          "output_type": "stream",
          "name": "stdout",
          "text": [
            "Requirement already satisfied: numpy in /usr/local/lib/python3.10/dist-packages (1.25.2)\n"
          ]
        }
      ]
    },
    {
      "cell_type": "code",
      "source": [
        "\n",
        "pip install pandas"
      ],
      "metadata": {
        "colab": {
          "base_uri": "https://localhost:8080/"
        },
        "id": "lnNJLILRWAQo",
        "outputId": "5162830f-c046-49fe-ffd1-615424bba59d"
      },
      "id": "lnNJLILRWAQo",
      "execution_count": null,
      "outputs": [
        {
          "output_type": "stream",
          "name": "stdout",
          "text": [
            "Requirement already satisfied: pandas in /usr/local/lib/python3.10/dist-packages (2.2.1)\n",
            "Requirement already satisfied: numpy<2,>=1.22.4 in /usr/local/lib/python3.10/dist-packages (from pandas) (1.25.2)\n",
            "Requirement already satisfied: python-dateutil>=2.8.2 in /usr/local/lib/python3.10/dist-packages (from pandas) (2.8.2)\n",
            "Requirement already satisfied: pytz>=2020.1 in /usr/local/lib/python3.10/dist-packages (from pandas) (2023.4)\n",
            "Requirement already satisfied: tzdata>=2022.7 in /usr/local/lib/python3.10/dist-packages (from pandas) (2024.1)\n",
            "Requirement already satisfied: six>=1.5 in /usr/local/lib/python3.10/dist-packages (from python-dateutil>=2.8.2->pandas) (1.16.0)\n"
          ]
        }
      ]
    },
    {
      "cell_type": "code",
      "source": [
        "pip install --upgrade pandas\n"
      ],
      "metadata": {
        "colab": {
          "base_uri": "https://localhost:8080/"
        },
        "id": "vQH_L7fDWEzW",
        "outputId": "abd04608-d649-4565-b19b-c4be13c54272"
      },
      "id": "vQH_L7fDWEzW",
      "execution_count": null,
      "outputs": [
        {
          "output_type": "stream",
          "name": "stdout",
          "text": [
            "Requirement already satisfied: pandas in /usr/local/lib/python3.10/dist-packages (2.2.1)\n",
            "Requirement already satisfied: numpy<2,>=1.22.4 in /usr/local/lib/python3.10/dist-packages (from pandas) (1.25.2)\n",
            "Requirement already satisfied: python-dateutil>=2.8.2 in /usr/local/lib/python3.10/dist-packages (from pandas) (2.8.2)\n",
            "Requirement already satisfied: pytz>=2020.1 in /usr/local/lib/python3.10/dist-packages (from pandas) (2023.4)\n",
            "Requirement already satisfied: tzdata>=2022.7 in /usr/local/lib/python3.10/dist-packages (from pandas) (2024.1)\n",
            "Requirement already satisfied: six>=1.5 in /usr/local/lib/python3.10/dist-packages (from python-dateutil>=2.8.2->pandas) (1.16.0)\n"
          ]
        }
      ]
    },
    {
      "cell_type": "code",
      "source": [
        "pip install seaborn"
      ],
      "metadata": {
        "colab": {
          "base_uri": "https://localhost:8080/"
        },
        "id": "wco5qhYwI48v",
        "outputId": "0ee44fad-c0c2-40d0-cf09-0d502ae17396"
      },
      "id": "wco5qhYwI48v",
      "execution_count": 1,
      "outputs": [
        {
          "output_type": "stream",
          "name": "stdout",
          "text": [
            "Requirement already satisfied: seaborn in /usr/local/lib/python3.10/dist-packages (0.13.1)\n",
            "Requirement already satisfied: numpy!=1.24.0,>=1.20 in /usr/local/lib/python3.10/dist-packages (from seaborn) (1.25.2)\n",
            "Requirement already satisfied: pandas>=1.2 in /usr/local/lib/python3.10/dist-packages (from seaborn) (1.5.3)\n",
            "Requirement already satisfied: matplotlib!=3.6.1,>=3.4 in /usr/local/lib/python3.10/dist-packages (from seaborn) (3.7.1)\n",
            "Requirement already satisfied: contourpy>=1.0.1 in /usr/local/lib/python3.10/dist-packages (from matplotlib!=3.6.1,>=3.4->seaborn) (1.2.0)\n",
            "Requirement already satisfied: cycler>=0.10 in /usr/local/lib/python3.10/dist-packages (from matplotlib!=3.6.1,>=3.4->seaborn) (0.12.1)\n",
            "Requirement already satisfied: fonttools>=4.22.0 in /usr/local/lib/python3.10/dist-packages (from matplotlib!=3.6.1,>=3.4->seaborn) (4.50.0)\n",
            "Requirement already satisfied: kiwisolver>=1.0.1 in /usr/local/lib/python3.10/dist-packages (from matplotlib!=3.6.1,>=3.4->seaborn) (1.4.5)\n",
            "Requirement already satisfied: packaging>=20.0 in /usr/local/lib/python3.10/dist-packages (from matplotlib!=3.6.1,>=3.4->seaborn) (24.0)\n",
            "Requirement already satisfied: pillow>=6.2.0 in /usr/local/lib/python3.10/dist-packages (from matplotlib!=3.6.1,>=3.4->seaborn) (9.4.0)\n",
            "Requirement already satisfied: pyparsing>=2.3.1 in /usr/local/lib/python3.10/dist-packages (from matplotlib!=3.6.1,>=3.4->seaborn) (3.1.2)\n",
            "Requirement already satisfied: python-dateutil>=2.7 in /usr/local/lib/python3.10/dist-packages (from matplotlib!=3.6.1,>=3.4->seaborn) (2.8.2)\n",
            "Requirement already satisfied: pytz>=2020.1 in /usr/local/lib/python3.10/dist-packages (from pandas>=1.2->seaborn) (2023.4)\n",
            "Requirement already satisfied: six>=1.5 in /usr/local/lib/python3.10/dist-packages (from python-dateutil>=2.7->matplotlib!=3.6.1,>=3.4->seaborn) (1.16.0)\n"
          ]
        }
      ]
    },
    {
      "cell_type": "code",
      "source": [
        "pip install ydata_profiling"
      ],
      "metadata": {
        "colab": {
          "base_uri": "https://localhost:8080/"
        },
        "id": "04jtbmooI8m1",
        "outputId": "9a33b651-3288-4412-acce-6adcc51e4861"
      },
      "id": "04jtbmooI8m1",
      "execution_count": 2,
      "outputs": [
        {
          "output_type": "stream",
          "name": "stdout",
          "text": [
            "Collecting ydata_profiling\n",
            "  Downloading ydata_profiling-4.7.0-py2.py3-none-any.whl (357 kB)\n",
            "\u001b[2K     \u001b[90m━━━━━━━━━━━━━━━━━━━━━━━━━━━━━━━━━━━━━━━━\u001b[0m \u001b[32m357.9/357.9 kB\u001b[0m \u001b[31m4.5 MB/s\u001b[0m eta \u001b[36m0:00:00\u001b[0m\n",
            "\u001b[?25hRequirement already satisfied: scipy<1.12,>=1.4.1 in /usr/local/lib/python3.10/dist-packages (from ydata_profiling) (1.11.4)\n",
            "Requirement already satisfied: pandas!=1.4.0,<3,>1.1 in /usr/local/lib/python3.10/dist-packages (from ydata_profiling) (1.5.3)\n",
            "Requirement already satisfied: matplotlib<3.9,>=3.2 in /usr/local/lib/python3.10/dist-packages (from ydata_profiling) (3.7.1)\n",
            "Requirement already satisfied: pydantic>=2 in /usr/local/lib/python3.10/dist-packages (from ydata_profiling) (2.6.4)\n",
            "Requirement already satisfied: PyYAML<6.1,>=5.0.0 in /usr/local/lib/python3.10/dist-packages (from ydata_profiling) (6.0.1)\n",
            "Requirement already satisfied: jinja2<3.2,>=2.11.1 in /usr/local/lib/python3.10/dist-packages (from ydata_profiling) (3.1.3)\n",
            "Collecting visions[type_image_path]<0.7.7,>=0.7.5 (from ydata_profiling)\n",
            "  Downloading visions-0.7.6-py3-none-any.whl (104 kB)\n",
            "\u001b[2K     \u001b[90m━━━━━━━━━━━━━━━━━━━━━━━━━━━━━━━━━━━━━━━━\u001b[0m \u001b[32m104.8/104.8 kB\u001b[0m \u001b[31m4.5 MB/s\u001b[0m eta \u001b[36m0:00:00\u001b[0m\n",
            "\u001b[?25hRequirement already satisfied: numpy<2,>=1.16.0 in /usr/local/lib/python3.10/dist-packages (from ydata_profiling) (1.25.2)\n",
            "Collecting htmlmin==0.1.12 (from ydata_profiling)\n",
            "  Downloading htmlmin-0.1.12.tar.gz (19 kB)\n",
            "  Preparing metadata (setup.py) ... \u001b[?25l\u001b[?25hdone\n",
            "Collecting phik<0.13,>=0.11.1 (from ydata_profiling)\n",
            "  Downloading phik-0.12.4-cp310-cp310-manylinux_2_17_x86_64.manylinux2014_x86_64.whl (686 kB)\n",
            "\u001b[2K     \u001b[90m━━━━━━━━━━━━━━━━━━━━━━━━━━━━━━━━━━━━━━━━\u001b[0m \u001b[32m686.1/686.1 kB\u001b[0m \u001b[31m25.2 MB/s\u001b[0m eta \u001b[36m0:00:00\u001b[0m\n",
            "\u001b[?25hRequirement already satisfied: requests<3,>=2.24.0 in /usr/local/lib/python3.10/dist-packages (from ydata_profiling) (2.31.0)\n",
            "Requirement already satisfied: tqdm<5,>=4.48.2 in /usr/local/lib/python3.10/dist-packages (from ydata_profiling) (4.66.2)\n",
            "Collecting seaborn<0.13,>=0.10.1 (from ydata_profiling)\n",
            "  Downloading seaborn-0.12.2-py3-none-any.whl (293 kB)\n",
            "\u001b[2K     \u001b[90m━━━━━━━━━━━━━━━━━━━━━━━━━━━━━━━━━━━━━━━━\u001b[0m \u001b[32m293.3/293.3 kB\u001b[0m \u001b[31m15.5 MB/s\u001b[0m eta \u001b[36m0:00:00\u001b[0m\n",
            "\u001b[?25hCollecting multimethod<2,>=1.4 (from ydata_profiling)\n",
            "  Downloading multimethod-1.11.2-py3-none-any.whl (10 kB)\n",
            "Requirement already satisfied: statsmodels<1,>=0.13.2 in /usr/local/lib/python3.10/dist-packages (from ydata_profiling) (0.14.1)\n",
            "Collecting typeguard<5,>=4.1.2 (from ydata_profiling)\n",
            "  Downloading typeguard-4.2.1-py3-none-any.whl (34 kB)\n",
            "Collecting imagehash==4.3.1 (from ydata_profiling)\n",
            "  Downloading ImageHash-4.3.1-py2.py3-none-any.whl (296 kB)\n",
            "\u001b[2K     \u001b[90m━━━━━━━━━━━━━━━━━━━━━━━━━━━━━━━━━━━━━━━━\u001b[0m \u001b[32m296.5/296.5 kB\u001b[0m \u001b[31m16.1 MB/s\u001b[0m eta \u001b[36m0:00:00\u001b[0m\n",
            "\u001b[?25hRequirement already satisfied: wordcloud>=1.9.1 in /usr/local/lib/python3.10/dist-packages (from ydata_profiling) (1.9.3)\n",
            "Collecting dacite>=1.8 (from ydata_profiling)\n",
            "  Downloading dacite-1.8.1-py3-none-any.whl (14 kB)\n",
            "Requirement already satisfied: numba<1,>=0.56.0 in /usr/local/lib/python3.10/dist-packages (from ydata_profiling) (0.58.1)\n",
            "Requirement already satisfied: PyWavelets in /usr/local/lib/python3.10/dist-packages (from imagehash==4.3.1->ydata_profiling) (1.5.0)\n",
            "Requirement already satisfied: pillow in /usr/local/lib/python3.10/dist-packages (from imagehash==4.3.1->ydata_profiling) (9.4.0)\n",
            "Requirement already satisfied: MarkupSafe>=2.0 in /usr/local/lib/python3.10/dist-packages (from jinja2<3.2,>=2.11.1->ydata_profiling) (2.1.5)\n",
            "Requirement already satisfied: contourpy>=1.0.1 in /usr/local/lib/python3.10/dist-packages (from matplotlib<3.9,>=3.2->ydata_profiling) (1.2.0)\n",
            "Requirement already satisfied: cycler>=0.10 in /usr/local/lib/python3.10/dist-packages (from matplotlib<3.9,>=3.2->ydata_profiling) (0.12.1)\n",
            "Requirement already satisfied: fonttools>=4.22.0 in /usr/local/lib/python3.10/dist-packages (from matplotlib<3.9,>=3.2->ydata_profiling) (4.50.0)\n",
            "Requirement already satisfied: kiwisolver>=1.0.1 in /usr/local/lib/python3.10/dist-packages (from matplotlib<3.9,>=3.2->ydata_profiling) (1.4.5)\n",
            "Requirement already satisfied: packaging>=20.0 in /usr/local/lib/python3.10/dist-packages (from matplotlib<3.9,>=3.2->ydata_profiling) (24.0)\n",
            "Requirement already satisfied: pyparsing>=2.3.1 in /usr/local/lib/python3.10/dist-packages (from matplotlib<3.9,>=3.2->ydata_profiling) (3.1.2)\n",
            "Requirement already satisfied: python-dateutil>=2.7 in /usr/local/lib/python3.10/dist-packages (from matplotlib<3.9,>=3.2->ydata_profiling) (2.8.2)\n",
            "Requirement already satisfied: llvmlite<0.42,>=0.41.0dev0 in /usr/local/lib/python3.10/dist-packages (from numba<1,>=0.56.0->ydata_profiling) (0.41.1)\n",
            "Requirement already satisfied: pytz>=2020.1 in /usr/local/lib/python3.10/dist-packages (from pandas!=1.4.0,<3,>1.1->ydata_profiling) (2023.4)\n",
            "Requirement already satisfied: joblib>=0.14.1 in /usr/local/lib/python3.10/dist-packages (from phik<0.13,>=0.11.1->ydata_profiling) (1.3.2)\n",
            "Requirement already satisfied: annotated-types>=0.4.0 in /usr/local/lib/python3.10/dist-packages (from pydantic>=2->ydata_profiling) (0.6.0)\n",
            "Requirement already satisfied: pydantic-core==2.16.3 in /usr/local/lib/python3.10/dist-packages (from pydantic>=2->ydata_profiling) (2.16.3)\n",
            "Requirement already satisfied: typing-extensions>=4.6.1 in /usr/local/lib/python3.10/dist-packages (from pydantic>=2->ydata_profiling) (4.10.0)\n",
            "Requirement already satisfied: charset-normalizer<4,>=2 in /usr/local/lib/python3.10/dist-packages (from requests<3,>=2.24.0->ydata_profiling) (3.3.2)\n",
            "Requirement already satisfied: idna<4,>=2.5 in /usr/local/lib/python3.10/dist-packages (from requests<3,>=2.24.0->ydata_profiling) (3.6)\n",
            "Requirement already satisfied: urllib3<3,>=1.21.1 in /usr/local/lib/python3.10/dist-packages (from requests<3,>=2.24.0->ydata_profiling) (2.0.7)\n",
            "Requirement already satisfied: certifi>=2017.4.17 in /usr/local/lib/python3.10/dist-packages (from requests<3,>=2.24.0->ydata_profiling) (2024.2.2)\n",
            "Requirement already satisfied: patsy>=0.5.4 in /usr/local/lib/python3.10/dist-packages (from statsmodels<1,>=0.13.2->ydata_profiling) (0.5.6)\n",
            "Collecting pandas!=1.4.0,<3,>1.1 (from ydata_profiling)\n",
            "  Downloading pandas-2.2.1-cp310-cp310-manylinux_2_17_x86_64.manylinux2014_x86_64.whl (13.0 MB)\n",
            "\u001b[2K     \u001b[90m━━━━━━━━━━━━━━━━━━━━━━━━━━━━━━━━━━━━━━━━\u001b[0m \u001b[32m13.0/13.0 MB\u001b[0m \u001b[31m21.4 MB/s\u001b[0m eta \u001b[36m0:00:00\u001b[0m\n",
            "\u001b[?25hRequirement already satisfied: attrs>=19.3.0 in /usr/local/lib/python3.10/dist-packages (from visions[type_image_path]<0.7.7,>=0.7.5->ydata_profiling) (23.2.0)\n",
            "Requirement already satisfied: networkx>=2.4 in /usr/local/lib/python3.10/dist-packages (from visions[type_image_path]<0.7.7,>=0.7.5->ydata_profiling) (3.2.1)\n",
            "Collecting tzdata>=2022.7 (from pandas!=1.4.0,<3,>1.1->ydata_profiling)\n",
            "  Downloading tzdata-2024.1-py2.py3-none-any.whl (345 kB)\n",
            "\u001b[2K     \u001b[90m━━━━━━━━━━━━━━━━━━━━━━━━━━━━━━━━━━━━━━━━\u001b[0m \u001b[32m345.4/345.4 kB\u001b[0m \u001b[31m19.9 MB/s\u001b[0m eta \u001b[36m0:00:00\u001b[0m\n",
            "\u001b[?25hRequirement already satisfied: six in /usr/local/lib/python3.10/dist-packages (from patsy>=0.5.4->statsmodels<1,>=0.13.2->ydata_profiling) (1.16.0)\n",
            "Building wheels for collected packages: htmlmin\n",
            "  Building wheel for htmlmin (setup.py) ... \u001b[?25l\u001b[?25hdone\n",
            "  Created wheel for htmlmin: filename=htmlmin-0.1.12-py3-none-any.whl size=27080 sha256=04d8774b84e693b10759e1826bd3dd8e42169c9b1fac6e20985b6c2df54516df\n",
            "  Stored in directory: /root/.cache/pip/wheels/dd/91/29/a79cecb328d01739e64017b6fb9a1ab9d8cb1853098ec5966d\n",
            "Successfully built htmlmin\n",
            "Installing collected packages: htmlmin, tzdata, typeguard, multimethod, dacite, pandas, imagehash, visions, seaborn, phik, ydata_profiling\n",
            "  Attempting uninstall: pandas\n",
            "    Found existing installation: pandas 1.5.3\n",
            "    Uninstalling pandas-1.5.3:\n",
            "      Successfully uninstalled pandas-1.5.3\n",
            "  Attempting uninstall: seaborn\n",
            "    Found existing installation: seaborn 0.13.1\n",
            "    Uninstalling seaborn-0.13.1:\n",
            "      Successfully uninstalled seaborn-0.13.1\n",
            "\u001b[31mERROR: pip's dependency resolver does not currently take into account all the packages that are installed. This behaviour is the source of the following dependency conflicts.\n",
            "google-colab 1.0.0 requires pandas==1.5.3, but you have pandas 2.2.1 which is incompatible.\u001b[0m\u001b[31m\n",
            "\u001b[0mSuccessfully installed dacite-1.8.1 htmlmin-0.1.12 imagehash-4.3.1 multimethod-1.11.2 pandas-2.2.1 phik-0.12.4 seaborn-0.12.2 typeguard-4.2.1 tzdata-2024.1 visions-0.7.6 ydata_profiling-4.7.0\n"
          ]
        }
      ]
    },
    {
      "cell_type": "code",
      "execution_count": null,
      "id": "e22b9c4b",
      "metadata": {
        "_cell_guid": "b1076dfc-b9ad-4769-8c92-a6c4dae69d19",
        "_uuid": "8f2839f25d086af736a60e9eeb907d3b93b6e0e5",
        "execution": {
          "iopub.execute_input": "2024-02-08T12:55:38.092685Z",
          "iopub.status.busy": "2024-02-08T12:55:38.092020Z",
          "iopub.status.idle": "2024-02-08T12:55:44.915575Z",
          "shell.execute_reply": "2024-02-08T12:55:44.914475Z"
        },
        "papermill": {
          "duration": 6.839612,
          "end_time": "2024-02-08T12:55:44.917862",
          "exception": false,
          "start_time": "2024-02-08T12:55:38.078250",
          "status": "completed"
        },
        "tags": [],
        "id": "e22b9c4b"
      },
      "outputs": [],
      "source": [
        "# Imports\n",
        "import numpy as np\n",
        "import pandas as pd\n",
        "import seaborn\n",
        "import matplotlib.pyplot as plt\n",
        "from ydata_profiling import ProfileReport\n",
        "from sklearn.model_selection import train_test_split\n",
        "from sklearn.linear_model import LogisticRegression\n",
        "from sklearn.tree import DecisionTreeClassifier, plot_tree\n",
        "from sklearn.ensemble import RandomForestClassifier\n",
        "from sklearn.metrics import accuracy_score,confusion_matrix,classification_report,ConfusionMatrixDisplay\n",
        "%matplotlib inline\n",
        "\n",
        "# initializations\n",
        "seaborn.set_theme()"
      ]
    },
    {
      "cell_type": "markdown",
      "id": "d136d3ee",
      "metadata": {
        "papermill": {
          "duration": 0.011639,
          "end_time": "2024-02-08T12:55:44.972945",
          "exception": false,
          "start_time": "2024-02-08T12:55:44.961306",
          "status": "completed"
        },
        "tags": [],
        "id": "d136d3ee"
      },
      "source": [
        "# Reading the data"
      ]
    },
    {
      "cell_type": "code",
      "execution_count": null,
      "id": "08d79e8e",
      "metadata": {
        "execution": {
          "iopub.execute_input": "2024-02-08T12:55:44.999891Z",
          "iopub.status.busy": "2024-02-08T12:55:44.999005Z",
          "iopub.status.idle": "2024-02-08T12:55:45.053206Z",
          "shell.execute_reply": "2024-02-08T12:55:45.052268Z"
        },
        "papermill": {
          "duration": 0.070145,
          "end_time": "2024-02-08T12:55:45.056015",
          "exception": false,
          "start_time": "2024-02-08T12:55:44.985870",
          "status": "completed"
        },
        "tags": [],
        "id": "08d79e8e"
      },
      "outputs": [],
      "source": [
        "path = \"/content/Churn_Modelling.csv\"\n",
        "df = pd.read_csv(path)"
      ]
    },
    {
      "cell_type": "code",
      "source": [
        "pip install --upgrade pandas\n"
      ],
      "metadata": {
        "colab": {
          "base_uri": "https://localhost:8080/"
        },
        "id": "zr0SwWFQW7E9",
        "outputId": "341a2420-155e-42de-bb8b-afbec4df724a"
      },
      "id": "zr0SwWFQW7E9",
      "execution_count": null,
      "outputs": [
        {
          "output_type": "stream",
          "name": "stdout",
          "text": [
            "Requirement already satisfied: pandas in /usr/local/lib/python3.10/dist-packages (2.2.1)\n",
            "Requirement already satisfied: numpy<2,>=1.22.4 in /usr/local/lib/python3.10/dist-packages (from pandas) (1.25.2)\n",
            "Requirement already satisfied: python-dateutil>=2.8.2 in /usr/local/lib/python3.10/dist-packages (from pandas) (2.8.2)\n",
            "Requirement already satisfied: pytz>=2020.1 in /usr/local/lib/python3.10/dist-packages (from pandas) (2023.4)\n",
            "Requirement already satisfied: tzdata>=2022.7 in /usr/local/lib/python3.10/dist-packages (from pandas) (2024.1)\n",
            "Requirement already satisfied: six>=1.5 in /usr/local/lib/python3.10/dist-packages (from python-dateutil>=2.8.2->pandas) (1.16.0)\n"
          ]
        }
      ]
    },
    {
      "cell_type": "code",
      "execution_count": null,
      "id": "d3727de0",
      "metadata": {
        "execution": {
          "iopub.execute_input": "2024-02-08T12:55:45.084843Z",
          "iopub.status.busy": "2024-02-08T12:55:45.084186Z",
          "iopub.status.idle": "2024-02-08T12:55:45.119473Z",
          "shell.execute_reply": "2024-02-08T12:55:45.118437Z"
        },
        "papermill": {
          "duration": 0.052316,
          "end_time": "2024-02-08T12:55:45.122449",
          "exception": false,
          "start_time": "2024-02-08T12:55:45.070133",
          "status": "completed"
        },
        "tags": [],
        "colab": {
          "base_uri": "https://localhost:8080/"
        },
        "id": "d3727de0",
        "outputId": "f8f72cd3-2eef-4f01-8cc3-2ada19fa3827"
      },
      "outputs": [
        {
          "output_type": "execute_result",
          "data": {
            "text/plain": [
              "(    RowNumber  CustomerId   Surname  CreditScore Geography  Gender  Age  \\\n",
              " 0           1    15634602  Hargrave          619    France  Female   42   \n",
              " 1           2    15647311      Hill          608     Spain  Female   41   \n",
              " 2           3    15619304      Onio          502    France  Female   42   \n",
              " 3           4    15701354      Boni          699    France  Female   39   \n",
              " 4           5    15737888  Mitchell          850     Spain  Female   43   \n",
              " 5           6    15574012       Chu          645     Spain    Male   44   \n",
              " 6           7    15592531  Bartlett          822    France    Male   50   \n",
              " 7           8    15656148    Obinna          376   Germany  Female   29   \n",
              " 8           9    15792365        He          501    France    Male   44   \n",
              " 9          10    15592389        H?          684    France    Male   27   \n",
              " 10         11    15767821    Bearce          528    France    Male   31   \n",
              " 11         12    15737173   Andrews          497     Spain    Male   24   \n",
              " 12         13    15632264       Kay          476    France  Female   34   \n",
              " 13         14    15691483      Chin          549    France  Female   25   \n",
              " 14         15    15600882     Scott          635     Spain  Female   35   \n",
              " \n",
              "     Tenure    Balance  NumOfProducts  HasCrCard  IsActiveMember  \\\n",
              " 0        2       0.00              1          1               1   \n",
              " 1        1   83807.86              1          0               1   \n",
              " 2        8  159660.80              3          1               0   \n",
              " 3        1       0.00              2          0               0   \n",
              " 4        2  125510.82              1          1               1   \n",
              " 5        8  113755.78              2          1               0   \n",
              " 6        7       0.00              2          1               1   \n",
              " 7        4  115046.74              4          1               0   \n",
              " 8        4  142051.07              2          0               1   \n",
              " 9        2  134603.88              1          1               1   \n",
              " 10       6  102016.72              2          0               0   \n",
              " 11       3       0.00              2          1               0   \n",
              " 12      10       0.00              2          1               0   \n",
              " 13       5       0.00              2          0               0   \n",
              " 14       7       0.00              2          1               1   \n",
              " \n",
              "     EstimatedSalary  Exited  \n",
              " 0         101348.88       1  \n",
              " 1         112542.58       0  \n",
              " 2         113931.57       1  \n",
              " 3          93826.63       0  \n",
              " 4          79084.10       0  \n",
              " 5         149756.71       1  \n",
              " 6          10062.80       0  \n",
              " 7         119346.88       1  \n",
              " 8          74940.50       0  \n",
              " 9          71725.73       0  \n",
              " 10         80181.12       0  \n",
              " 11         76390.01       0  \n",
              " 12         26260.98       0  \n",
              " 13        190857.79       0  \n",
              " 14         65951.65       0  ,)"
            ]
          },
          "metadata": {},
          "execution_count": 72
        }
      ],
      "source": [
        "df.head(15),"
      ]
    },
    {
      "cell_type": "code",
      "execution_count": null,
      "id": "0beda543",
      "metadata": {
        "execution": {
          "iopub.execute_input": "2024-02-08T12:55:45.157881Z",
          "iopub.status.busy": "2024-02-08T12:55:45.157377Z",
          "iopub.status.idle": "2024-02-08T12:55:45.179290Z",
          "shell.execute_reply": "2024-02-08T12:55:45.178213Z"
        },
        "papermill": {
          "duration": 0.039702,
          "end_time": "2024-02-08T12:55:45.181347",
          "exception": false,
          "start_time": "2024-02-08T12:55:45.141645",
          "status": "completed"
        },
        "tags": [],
        "colab": {
          "base_uri": "https://localhost:8080/"
        },
        "id": "0beda543",
        "outputId": "afa4b204-f92f-49bb-8a03-ccc4fb7e46f6"
      },
      "outputs": [
        {
          "output_type": "execute_result",
          "data": {
            "text/plain": [
              "(      RowNumber  CustomerId      Surname  CreditScore Geography  Gender  Age  \\\n",
              " 9985       9986    15586914       Nepean          659    France    Male   36   \n",
              " 9986       9987    15581736     Bartlett          673   Germany    Male   47   \n",
              " 9987       9988    15588839      Mancini          606     Spain    Male   30   \n",
              " 9988       9989    15589329      Pirozzi          775    France    Male   30   \n",
              " 9989       9990    15605622     McMillan          841     Spain    Male   28   \n",
              " 9990       9991    15798964   Nkemakonam          714   Germany    Male   33   \n",
              " 9991       9992    15769959  Ajuluchukwu          597    France  Female   53   \n",
              " 9992       9993    15657105  Chukwualuka          726     Spain    Male   36   \n",
              " 9993       9994    15569266       Rahman          644    France    Male   28   \n",
              " 9994       9995    15719294         Wood          800    France  Female   29   \n",
              " 9995       9996    15606229     Obijiaku          771    France    Male   39   \n",
              " 9996       9997    15569892    Johnstone          516    France    Male   35   \n",
              " 9997       9998    15584532          Liu          709    France  Female   36   \n",
              " 9998       9999    15682355    Sabbatini          772   Germany    Male   42   \n",
              " 9999      10000    15628319       Walker          792    France  Female   28   \n",
              " \n",
              "       Tenure    Balance  NumOfProducts  HasCrCard  IsActiveMember  \\\n",
              " 9985       6  123841.49              2          1               0   \n",
              " 9986       1  183579.54              2          0               1   \n",
              " 9987       8  180307.73              2          1               1   \n",
              " 9988       4       0.00              2          1               0   \n",
              " 9989       4       0.00              2          1               1   \n",
              " 9990       3   35016.60              1          1               0   \n",
              " 9991       4   88381.21              1          1               0   \n",
              " 9992       2       0.00              1          1               0   \n",
              " 9993       7  155060.41              1          1               0   \n",
              " 9994       2       0.00              2          0               0   \n",
              " 9995       5       0.00              2          1               0   \n",
              " 9996      10   57369.61              1          1               1   \n",
              " 9997       7       0.00              1          0               1   \n",
              " 9998       3   75075.31              2          1               0   \n",
              " 9999       4  130142.79              1          1               0   \n",
              " \n",
              "       EstimatedSalary  Exited  \n",
              " 9985         96833.00       0  \n",
              " 9986         34047.54       0  \n",
              " 9987          1914.41       0  \n",
              " 9988         49337.84       0  \n",
              " 9989        179436.60       0  \n",
              " 9990         53667.08       0  \n",
              " 9991         69384.71       1  \n",
              " 9992        195192.40       0  \n",
              " 9993         29179.52       0  \n",
              " 9994        167773.55       0  \n",
              " 9995         96270.64       0  \n",
              " 9996        101699.77       0  \n",
              " 9997         42085.58       1  \n",
              " 9998         92888.52       1  \n",
              " 9999         38190.78       0  ,)"
            ]
          },
          "metadata": {},
          "execution_count": 73
        }
      ],
      "source": [
        "df.tail(15),"
      ]
    },
    {
      "cell_type": "markdown",
      "id": "4d8006d5",
      "metadata": {
        "papermill": {
          "duration": 0.012437,
          "end_time": "2024-02-08T12:55:45.206502",
          "exception": false,
          "start_time": "2024-02-08T12:55:45.194065",
          "status": "completed"
        },
        "tags": [],
        "id": "4d8006d5"
      },
      "source": [
        "# EDA"
      ]
    },
    {
      "cell_type": "code",
      "execution_count": null,
      "id": "c2dedb1b",
      "metadata": {
        "execution": {
          "iopub.execute_input": "2024-02-08T12:55:45.234087Z",
          "iopub.status.busy": "2024-02-08T12:55:45.233455Z",
          "iopub.status.idle": "2024-02-08T12:55:45.262886Z",
          "shell.execute_reply": "2024-02-08T12:55:45.261749Z"
        },
        "papermill": {
          "duration": 0.045801,
          "end_time": "2024-02-08T12:55:45.265112",
          "exception": false,
          "start_time": "2024-02-08T12:55:45.219311",
          "status": "completed"
        },
        "tags": [],
        "colab": {
          "base_uri": "https://localhost:8080/"
        },
        "id": "c2dedb1b",
        "outputId": "c1e84d65-c873-456b-ae71-fe8b37bdea99"
      },
      "outputs": [
        {
          "output_type": "stream",
          "name": "stdout",
          "text": [
            "<class 'pandas.core.frame.DataFrame'>\n",
            "RangeIndex: 10000 entries, 0 to 9999\n",
            "Data columns (total 14 columns):\n",
            " #   Column           Non-Null Count  Dtype  \n",
            "---  ------           --------------  -----  \n",
            " 0   RowNumber        10000 non-null  int64  \n",
            " 1   CustomerId       10000 non-null  int64  \n",
            " 2   Surname          10000 non-null  object \n",
            " 3   CreditScore      10000 non-null  int64  \n",
            " 4   Geography        10000 non-null  object \n",
            " 5   Gender           10000 non-null  object \n",
            " 6   Age              10000 non-null  int64  \n",
            " 7   Tenure           10000 non-null  int64  \n",
            " 8   Balance          10000 non-null  float64\n",
            " 9   NumOfProducts    10000 non-null  int64  \n",
            " 10  HasCrCard        10000 non-null  int64  \n",
            " 11  IsActiveMember   10000 non-null  int64  \n",
            " 12  EstimatedSalary  10000 non-null  float64\n",
            " 13  Exited           10000 non-null  int64  \n",
            "dtypes: float64(2), int64(9), object(3)\n",
            "memory usage: 1.1+ MB\n"
          ]
        }
      ],
      "source": [
        "df.info()"
      ]
    },
    {
      "cell_type": "markdown",
      "id": "dfe73259",
      "metadata": {
        "papermill": {
          "duration": 0.01233,
          "end_time": "2024-02-08T12:55:45.290365",
          "exception": false,
          "start_time": "2024-02-08T12:55:45.278035",
          "status": "completed"
        },
        "tags": [],
        "id": "dfe73259"
      },
      "source": [
        "## Basic Statistic"
      ]
    },
    {
      "cell_type": "code",
      "execution_count": null,
      "id": "703b8cb8",
      "metadata": {
        "execution": {
          "iopub.execute_input": "2024-02-08T12:55:45.317337Z",
          "iopub.status.busy": "2024-02-08T12:55:45.316970Z",
          "iopub.status.idle": "2024-02-08T12:55:45.361011Z",
          "shell.execute_reply": "2024-02-08T12:55:45.359994Z"
        },
        "papermill": {
          "duration": 0.059909,
          "end_time": "2024-02-08T12:55:45.363127",
          "exception": false,
          "start_time": "2024-02-08T12:55:45.303218",
          "status": "completed"
        },
        "tags": [],
        "colab": {
          "base_uri": "https://localhost:8080/"
        },
        "id": "703b8cb8",
        "outputId": "85e27105-b64f-4091-deb9-d82afdac212f"
      },
      "outputs": [
        {
          "output_type": "execute_result",
          "data": {
            "text/plain": [
              "(                   count          mean           std          min  \\\n",
              " RowNumber        10000.0  5.000500e+03   2886.895680         1.00   \n",
              " CustomerId       10000.0  1.569094e+07  71936.186123  15565701.00   \n",
              " CreditScore      10000.0  6.505288e+02     96.653299       350.00   \n",
              " Age              10000.0  3.892180e+01     10.487806        18.00   \n",
              " Tenure           10000.0  5.012800e+00      2.892174         0.00   \n",
              " Balance          10000.0  7.648589e+04  62397.405202         0.00   \n",
              " NumOfProducts    10000.0  1.530200e+00      0.581654         1.00   \n",
              " HasCrCard        10000.0  7.055000e-01      0.455840         0.00   \n",
              " IsActiveMember   10000.0  5.151000e-01      0.499797         0.00   \n",
              " EstimatedSalary  10000.0  1.000902e+05  57510.492818        11.58   \n",
              " Exited           10000.0  2.037000e-01      0.402769         0.00   \n",
              " \n",
              "                          25%           50%           75%          max  \n",
              " RowNumber            2500.75  5.000500e+03  7.500250e+03     10000.00  \n",
              " CustomerId       15628528.25  1.569074e+07  1.575323e+07  15815690.00  \n",
              " CreditScore           584.00  6.520000e+02  7.180000e+02       850.00  \n",
              " Age                    32.00  3.700000e+01  4.400000e+01        92.00  \n",
              " Tenure                  3.00  5.000000e+00  7.000000e+00        10.00  \n",
              " Balance                 0.00  9.719854e+04  1.276442e+05    250898.09  \n",
              " NumOfProducts           1.00  1.000000e+00  2.000000e+00         4.00  \n",
              " HasCrCard               0.00  1.000000e+00  1.000000e+00         1.00  \n",
              " IsActiveMember          0.00  1.000000e+00  1.000000e+00         1.00  \n",
              " EstimatedSalary     51002.11  1.001939e+05  1.493882e+05    199992.48  \n",
              " Exited                  0.00  0.000000e+00  0.000000e+00         1.00  ,)"
            ]
          },
          "metadata": {},
          "execution_count": 74
        }
      ],
      "source": [
        "df.describe(exclude=\"object\").T,"
      ]
    },
    {
      "cell_type": "code",
      "execution_count": null,
      "id": "cbc12623",
      "metadata": {
        "execution": {
          "iopub.execute_input": "2024-02-08T12:55:45.391468Z",
          "iopub.status.busy": "2024-02-08T12:55:45.391023Z",
          "iopub.status.idle": "2024-02-08T12:55:45.413246Z",
          "shell.execute_reply": "2024-02-08T12:55:45.411236Z"
        },
        "papermill": {
          "duration": 0.039421,
          "end_time": "2024-02-08T12:55:45.415921",
          "exception": false,
          "start_time": "2024-02-08T12:55:45.376500",
          "status": "completed"
        },
        "tags": [],
        "colab": {
          "base_uri": "https://localhost:8080/"
        },
        "id": "cbc12623",
        "outputId": "e0775055-5e4b-461e-9797-520420767401"
      },
      "outputs": [
        {
          "output_type": "execute_result",
          "data": {
            "text/plain": [
              "(       Surname Geography Gender\n",
              " count    10000     10000  10000\n",
              " unique    2932         3      2\n",
              " top      Smith    France   Male\n",
              " freq        32      5014   5457,)"
            ]
          },
          "metadata": {},
          "execution_count": 75
        }
      ],
      "source": [
        "df.describe(include=\"object\"),"
      ]
    },
    {
      "cell_type": "markdown",
      "id": "d228d866",
      "metadata": {
        "papermill": {
          "duration": 0.017235,
          "end_time": "2024-02-08T12:55:45.447039",
          "exception": false,
          "start_time": "2024-02-08T12:55:45.429804",
          "status": "completed"
        },
        "tags": [],
        "id": "d228d866"
      },
      "source": [
        "## Unique values"
      ]
    },
    {
      "cell_type": "code",
      "execution_count": null,
      "id": "015800c6",
      "metadata": {
        "execution": {
          "iopub.execute_input": "2024-02-08T12:55:45.476837Z",
          "iopub.status.busy": "2024-02-08T12:55:45.476430Z",
          "iopub.status.idle": "2024-02-08T12:55:45.489304Z",
          "shell.execute_reply": "2024-02-08T12:55:45.488512Z"
        },
        "papermill": {
          "duration": 0.030442,
          "end_time": "2024-02-08T12:55:45.491579",
          "exception": false,
          "start_time": "2024-02-08T12:55:45.461137",
          "status": "completed"
        },
        "tags": [],
        "colab": {
          "base_uri": "https://localhost:8080/"
        },
        "id": "015800c6",
        "outputId": "5e5e13f9-0534-4dec-bd68-7e7067206c89"
      },
      "outputs": [
        {
          "output_type": "execute_result",
          "data": {
            "text/plain": [
              "RowNumber          10000\n",
              "CustomerId         10000\n",
              "Surname             2932\n",
              "CreditScore          460\n",
              "Geography              3\n",
              "Gender                 2\n",
              "Age                   70\n",
              "Tenure                11\n",
              "Balance             6382\n",
              "NumOfProducts          4\n",
              "HasCrCard              2\n",
              "IsActiveMember         2\n",
              "EstimatedSalary     9999\n",
              "Exited                 2\n",
              "dtype: int64"
            ]
          },
          "metadata": {},
          "execution_count": 16
        }
      ],
      "source": [
        "df.nunique()"
      ]
    },
    {
      "cell_type": "markdown",
      "id": "3cde784c",
      "metadata": {
        "papermill": {
          "duration": 0.014238,
          "end_time": "2024-02-08T12:55:45.524044",
          "exception": false,
          "start_time": "2024-02-08T12:55:45.509806",
          "status": "completed"
        },
        "tags": [],
        "id": "3cde784c"
      },
      "source": [
        "## Distribution"
      ]
    },
    {
      "cell_type": "code",
      "source": [
        "pip install matplotlib"
      ],
      "metadata": {
        "colab": {
          "base_uri": "https://localhost:8080/"
        },
        "id": "Q5Aqv-a1XXHe",
        "outputId": "2e2dbddc-df34-4fc1-c161-3c5cf97a8921"
      },
      "id": "Q5Aqv-a1XXHe",
      "execution_count": null,
      "outputs": [
        {
          "output_type": "stream",
          "name": "stdout",
          "text": [
            "Requirement already satisfied: matplotlib in /usr/local/lib/python3.10/dist-packages (3.7.1)\n",
            "Requirement already satisfied: contourpy>=1.0.1 in /usr/local/lib/python3.10/dist-packages (from matplotlib) (1.2.0)\n",
            "Requirement already satisfied: cycler>=0.10 in /usr/local/lib/python3.10/dist-packages (from matplotlib) (0.12.1)\n",
            "Requirement already satisfied: fonttools>=4.22.0 in /usr/local/lib/python3.10/dist-packages (from matplotlib) (4.50.0)\n",
            "Requirement already satisfied: kiwisolver>=1.0.1 in /usr/local/lib/python3.10/dist-packages (from matplotlib) (1.4.5)\n",
            "Requirement already satisfied: numpy>=1.20 in /usr/local/lib/python3.10/dist-packages (from matplotlib) (1.25.2)\n",
            "Requirement already satisfied: packaging>=20.0 in /usr/local/lib/python3.10/dist-packages (from matplotlib) (24.0)\n",
            "Requirement already satisfied: pillow>=6.2.0 in /usr/local/lib/python3.10/dist-packages (from matplotlib) (9.4.0)\n",
            "Requirement already satisfied: pyparsing>=2.3.1 in /usr/local/lib/python3.10/dist-packages (from matplotlib) (3.1.2)\n",
            "Requirement already satisfied: python-dateutil>=2.7 in /usr/local/lib/python3.10/dist-packages (from matplotlib) (2.8.2)\n",
            "Requirement already satisfied: six>=1.5 in /usr/local/lib/python3.10/dist-packages (from python-dateutil>=2.7->matplotlib) (1.16.0)\n"
          ]
        }
      ]
    },
    {
      "cell_type": "code",
      "source": [
        "!pip install matplotlib\n"
      ],
      "metadata": {
        "colab": {
          "base_uri": "https://localhost:8080/"
        },
        "id": "sgubskdQX3qq",
        "outputId": "e4e609ca-4b2d-4a00-9819-1329c0268891"
      },
      "id": "sgubskdQX3qq",
      "execution_count": null,
      "outputs": [
        {
          "output_type": "stream",
          "name": "stdout",
          "text": [
            "Requirement already satisfied: matplotlib in /usr/local/lib/python3.10/dist-packages (3.7.1)\n",
            "Requirement already satisfied: contourpy>=1.0.1 in /usr/local/lib/python3.10/dist-packages (from matplotlib) (1.2.0)\n",
            "Requirement already satisfied: cycler>=0.10 in /usr/local/lib/python3.10/dist-packages (from matplotlib) (0.12.1)\n",
            "Requirement already satisfied: fonttools>=4.22.0 in /usr/local/lib/python3.10/dist-packages (from matplotlib) (4.50.0)\n",
            "Requirement already satisfied: kiwisolver>=1.0.1 in /usr/local/lib/python3.10/dist-packages (from matplotlib) (1.4.5)\n",
            "Requirement already satisfied: numpy>=1.20 in /usr/local/lib/python3.10/dist-packages (from matplotlib) (1.25.2)\n",
            "Requirement already satisfied: packaging>=20.0 in /usr/local/lib/python3.10/dist-packages (from matplotlib) (24.0)\n",
            "Requirement already satisfied: pillow>=6.2.0 in /usr/local/lib/python3.10/dist-packages (from matplotlib) (9.4.0)\n",
            "Requirement already satisfied: pyparsing>=2.3.1 in /usr/local/lib/python3.10/dist-packages (from matplotlib) (3.1.2)\n",
            "Requirement already satisfied: python-dateutil>=2.7 in /usr/local/lib/python3.10/dist-packages (from matplotlib) (2.8.2)\n",
            "Requirement already satisfied: six>=1.5 in /usr/local/lib/python3.10/dist-packages (from python-dateutil>=2.7->matplotlib) (1.16.0)\n"
          ]
        }
      ]
    },
    {
      "cell_type": "code",
      "execution_count": null,
      "id": "89e24b53",
      "metadata": {
        "execution": {
          "iopub.execute_input": "2024-02-08T12:55:48.692949Z",
          "iopub.status.busy": "2024-02-08T12:55:48.692526Z",
          "iopub.status.idle": "2024-02-08T12:55:49.040844Z",
          "shell.execute_reply": "2024-02-08T12:55:49.039782Z"
        },
        "papermill": {
          "duration": 0.367357,
          "end_time": "2024-02-08T12:55:49.043402",
          "exception": false,
          "start_time": "2024-02-08T12:55:48.676045",
          "status": "completed"
        },
        "tags": [],
        "colab": {
          "base_uri": "https://localhost:8080/",
          "height": 519
        },
        "id": "89e24b53",
        "outputId": "99a6672a-8475-4148-8aaf-196f4455e96f"
      },
      "outputs": [
        {
          "output_type": "execute_result",
          "data": {
            "text/plain": [
              "<seaborn.axisgrid.FacetGrid at 0x7e121d8e6980>"
            ]
          },
          "metadata": {},
          "execution_count": 18
        },
        {
          "output_type": "display_data",
          "data": {
            "text/plain": [
              "<Figure size 500x500 with 1 Axes>"
            ],
            "image/png": "[encoded data removed]"
          },
          "metadata": {}
        }
      ],
      "source": [
        "seaborn.displot(data=df[\"Geography\"])"
      ]
    },
    {
      "cell_type": "code",
      "execution_count": null,
      "id": "82e0e8fe",
      "metadata": {
        "execution": {
          "iopub.execute_input": "2024-02-08T12:55:49.076474Z",
          "iopub.status.busy": "2024-02-08T12:55:49.075776Z",
          "iopub.status.idle": "2024-02-08T12:55:49.397477Z",
          "shell.execute_reply": "2024-02-08T12:55:49.396545Z"
        },
        "papermill": {
          "duration": 0.340862,
          "end_time": "2024-02-08T12:55:49.399817",
          "exception": false,
          "start_time": "2024-02-08T12:55:49.058955",
          "status": "completed"
        },
        "tags": [],
        "colab": {
          "base_uri": "https://localhost:8080/",
          "height": 519
        },
        "id": "82e0e8fe",
        "outputId": "b82fdd18-48a0-4b17-a269-a93a9132d062"
      },
      "outputs": [
        {
          "output_type": "execute_result",
          "data": {
            "text/plain": [
              "<seaborn.axisgrid.FacetGrid at 0x7e121d8e6ef0>"
            ]
          },
          "metadata": {},
          "execution_count": 19
        },
        {
          "output_type": "display_data",
          "data": {
            "text/plain": [
              "<Figure size 500x500 with 1 Axes>"
            ],
            "image/png": "[encoded data removed]"
          },
          "metadata": {}
        }
      ],
      "source": [
        "seaborn.displot(df['Gender'])"
      ]
    },
    {
      "cell_type": "code",
      "execution_count": null,
      "id": "5774a169",
      "metadata": {
        "execution": {
          "iopub.execute_input": "2024-02-08T12:55:49.433660Z",
          "iopub.status.busy": "2024-02-08T12:55:49.433022Z",
          "iopub.status.idle": "2024-02-08T12:55:49.444562Z",
          "shell.execute_reply": "2024-02-08T12:55:49.443520Z"
        },
        "papermill": {
          "duration": 0.030701,
          "end_time": "2024-02-08T12:55:49.446624",
          "exception": false,
          "start_time": "2024-02-08T12:55:49.415923",
          "status": "completed"
        },
        "tags": [],
        "colab": {
          "base_uri": "https://localhost:8080/"
        },
        "id": "5774a169",
        "outputId": "ea9755d6-414e-4e06-acec-de33e06ad828"
      },
      "outputs": [
        {
          "output_type": "execute_result",
          "data": {
            "text/plain": [
              "RowNumber          0.000000\n",
              "CustomerId         0.001149\n",
              "CreditScore       -0.071607\n",
              "Age                1.011320\n",
              "Tenure             0.010991\n",
              "Balance           -0.141109\n",
              "NumOfProducts      0.745568\n",
              "HasCrCard         -0.901812\n",
              "IsActiveMember    -0.060437\n",
              "EstimatedSalary    0.002085\n",
              "Exited             1.471611\n",
              "dtype: float64"
            ]
          },
          "metadata": {},
          "execution_count": 20
        }
      ],
      "source": [
        "df.skew(numeric_only = True)"
      ]
    },
    {
      "cell_type": "markdown",
      "id": "c7965d6c",
      "metadata": {
        "papermill": {
          "duration": 0.01589,
          "end_time": "2024-02-08T12:55:49.478656",
          "exception": false,
          "start_time": "2024-02-08T12:55:49.462766",
          "status": "completed"
        },
        "tags": [],
        "id": "c7965d6c"
      },
      "source": [
        "## Handling Missing Values & Duplicates"
      ]
    },
    {
      "cell_type": "code",
      "execution_count": null,
      "id": "36a830ce",
      "metadata": {
        "execution": {
          "iopub.execute_input": "2024-02-08T12:55:49.512733Z",
          "iopub.status.busy": "2024-02-08T12:55:49.512352Z",
          "iopub.status.idle": "2024-02-08T12:55:49.522558Z",
          "shell.execute_reply": "2024-02-08T12:55:49.521512Z"
        },
        "papermill": {
          "duration": 0.029995,
          "end_time": "2024-02-08T12:55:49.524897",
          "exception": false,
          "start_time": "2024-02-08T12:55:49.494902",
          "status": "completed"
        },
        "tags": [],
        "colab": {
          "base_uri": "https://localhost:8080/"
        },
        "id": "36a830ce",
        "outputId": "a6574dff-c48d-464e-f3a2-034d5d718da3"
      },
      "outputs": [
        {
          "output_type": "execute_result",
          "data": {
            "text/plain": [
              "RowNumber          0\n",
              "CustomerId         0\n",
              "Surname            0\n",
              "CreditScore        0\n",
              "Geography          0\n",
              "Gender             0\n",
              "Age                0\n",
              "Tenure             0\n",
              "Balance            0\n",
              "NumOfProducts      0\n",
              "HasCrCard          0\n",
              "IsActiveMember     0\n",
              "EstimatedSalary    0\n",
              "Exited             0\n",
              "dtype: int64"
            ]
          },
          "metadata": {},
          "execution_count": 21
        }
      ],
      "source": [
        "df.isna().sum()"
      ]
    },
    {
      "cell_type": "code",
      "execution_count": null,
      "id": "a2349ab6",
      "metadata": {
        "execution": {
          "iopub.execute_input": "2024-02-08T12:55:49.559361Z",
          "iopub.status.busy": "2024-02-08T12:55:49.558965Z",
          "iopub.status.idle": "2024-02-08T12:55:49.569150Z",
          "shell.execute_reply": "2024-02-08T12:55:49.568204Z"
        },
        "papermill": {
          "duration": 0.029767,
          "end_time": "2024-02-08T12:55:49.571130",
          "exception": false,
          "start_time": "2024-02-08T12:55:49.541363",
          "status": "completed"
        },
        "tags": [],
        "colab": {
          "base_uri": "https://localhost:8080/"
        },
        "id": "a2349ab6",
        "outputId": "bba6bd06-6696-4a99-f7a3-f8c8594f8dcd"
      },
      "outputs": [
        {
          "output_type": "execute_result",
          "data": {
            "text/plain": [
              "RowNumber          0\n",
              "CustomerId         0\n",
              "Surname            0\n",
              "CreditScore        0\n",
              "Geography          0\n",
              "Gender             0\n",
              "Age                0\n",
              "Tenure             0\n",
              "Balance            0\n",
              "NumOfProducts      0\n",
              "HasCrCard          0\n",
              "IsActiveMember     0\n",
              "EstimatedSalary    0\n",
              "Exited             0\n",
              "dtype: int64"
            ]
          },
          "metadata": {},
          "execution_count": 22
        }
      ],
      "source": [
        "df.isnull().sum()"
      ]
    },
    {
      "cell_type": "code",
      "execution_count": null,
      "id": "8b2b2daf",
      "metadata": {
        "execution": {
          "iopub.execute_input": "2024-02-08T12:55:49.663320Z",
          "iopub.status.busy": "2024-02-08T12:55:49.662669Z",
          "iopub.status.idle": "2024-02-08T12:55:49.676241Z",
          "shell.execute_reply": "2024-02-08T12:55:49.675313Z"
        },
        "papermill": {
          "duration": 0.090617,
          "end_time": "2024-02-08T12:55:49.678152",
          "exception": false,
          "start_time": "2024-02-08T12:55:49.587535",
          "status": "completed"
        },
        "tags": [],
        "colab": {
          "base_uri": "https://localhost:8080/"
        },
        "id": "8b2b2daf",
        "outputId": "1846988b-d42f-4e05-c409-2e9ab5873d21"
      },
      "outputs": [
        {
          "output_type": "execute_result",
          "data": {
            "text/plain": [
              "0"
            ]
          },
          "metadata": {},
          "execution_count": 23
        }
      ],
      "source": [
        "df.duplicated().sum()"
      ]
    },
    {
      "cell_type": "code",
      "execution_count": null,
      "id": "ac45c06d",
      "metadata": {
        "execution": {
          "iopub.execute_input": "2024-02-08T12:55:49.713901Z",
          "iopub.status.busy": "2024-02-08T12:55:49.713217Z",
          "iopub.status.idle": "2024-02-08T12:55:49.721638Z",
          "shell.execute_reply": "2024-02-08T12:55:49.720793Z"
        },
        "papermill": {
          "duration": 0.029041,
          "end_time": "2024-02-08T12:55:49.723840",
          "exception": false,
          "start_time": "2024-02-08T12:55:49.694799",
          "status": "completed"
        },
        "tags": [],
        "id": "ac45c06d"
      },
      "outputs": [],
      "source": [
        "df = df.dropna()"
      ]
    },
    {
      "cell_type": "code",
      "execution_count": null,
      "id": "6b4d1980",
      "metadata": {
        "execution": {
          "iopub.execute_input": "2024-02-08T12:55:49.759156Z",
          "iopub.status.busy": "2024-02-08T12:55:49.758507Z",
          "iopub.status.idle": "2024-02-08T12:55:49.768445Z",
          "shell.execute_reply": "2024-02-08T12:55:49.767307Z"
        },
        "papermill": {
          "duration": 0.03007,
          "end_time": "2024-02-08T12:55:49.770582",
          "exception": false,
          "start_time": "2024-02-08T12:55:49.740512",
          "status": "completed"
        },
        "tags": [],
        "colab": {
          "base_uri": "https://localhost:8080/"
        },
        "id": "6b4d1980",
        "outputId": "1a5978e2-aa51-415b-a239-061e819b82ce"
      },
      "outputs": [
        {
          "output_type": "execute_result",
          "data": {
            "text/plain": [
              "RowNumber          0\n",
              "CustomerId         0\n",
              "Surname            0\n",
              "CreditScore        0\n",
              "Geography          0\n",
              "Gender             0\n",
              "Age                0\n",
              "Tenure             0\n",
              "Balance            0\n",
              "NumOfProducts      0\n",
              "HasCrCard          0\n",
              "IsActiveMember     0\n",
              "EstimatedSalary    0\n",
              "Exited             0\n",
              "dtype: int64"
            ]
          },
          "metadata": {},
          "execution_count": 25
        }
      ],
      "source": [
        "df.isnull().sum()"
      ]
    },
    {
      "cell_type": "code",
      "execution_count": null,
      "id": "840eaffe",
      "metadata": {
        "execution": {
          "iopub.execute_input": "2024-02-08T12:55:49.806119Z",
          "iopub.status.busy": "2024-02-08T12:55:49.805667Z",
          "iopub.status.idle": "2024-02-08T12:55:49.815600Z",
          "shell.execute_reply": "2024-02-08T12:55:49.814634Z"
        },
        "papermill": {
          "duration": 0.02994,
          "end_time": "2024-02-08T12:55:49.817598",
          "exception": false,
          "start_time": "2024-02-08T12:55:49.787658",
          "status": "completed"
        },
        "tags": [],
        "colab": {
          "base_uri": "https://localhost:8080/"
        },
        "id": "840eaffe",
        "outputId": "cf0e15f6-23f6-4759-e587-5ab7f0c85d51"
      },
      "outputs": [
        {
          "output_type": "execute_result",
          "data": {
            "text/plain": [
              "RowNumber          0\n",
              "CustomerId         0\n",
              "Surname            0\n",
              "CreditScore        0\n",
              "Geography          0\n",
              "Gender             0\n",
              "Age                0\n",
              "Tenure             0\n",
              "Balance            0\n",
              "NumOfProducts      0\n",
              "HasCrCard          0\n",
              "IsActiveMember     0\n",
              "EstimatedSalary    0\n",
              "Exited             0\n",
              "dtype: int64"
            ]
          },
          "metadata": {},
          "execution_count": 85
        }
      ],
      "source": [
        "df.isna().sum()"
      ]
    },
    {
      "cell_type": "markdown",
      "id": "8b5a91e3",
      "metadata": {
        "papermill": {
          "duration": 0.016664,
          "end_time": "2024-02-08T12:55:49.851580",
          "exception": false,
          "start_time": "2024-02-08T12:55:49.834916",
          "status": "completed"
        },
        "tags": [],
        "id": "8b5a91e3"
      },
      "source": [
        "## Dropping Unnecessary Columns"
      ]
    },
    {
      "cell_type": "code",
      "execution_count": null,
      "id": "55bdb0f3",
      "metadata": {
        "execution": {
          "iopub.execute_input": "2024-02-08T12:55:49.886749Z",
          "iopub.status.busy": "2024-02-08T12:55:49.886331Z",
          "iopub.status.idle": "2024-02-08T12:55:49.892747Z",
          "shell.execute_reply": "2024-02-08T12:55:49.892016Z"
        },
        "papermill": {
          "duration": 0.026266,
          "end_time": "2024-02-08T12:55:49.894640",
          "exception": false,
          "start_time": "2024-02-08T12:55:49.868374",
          "status": "completed"
        },
        "tags": [],
        "id": "55bdb0f3"
      },
      "outputs": [],
      "source": [
        "df = df.drop(['RowNumber','CustomerId', 'Surname'], axis=1)\n",
        "shadow = df.copy()"
      ]
    },
    {
      "cell_type": "code",
      "execution_count": null,
      "id": "33b603b7",
      "metadata": {
        "execution": {
          "iopub.execute_input": "2024-02-08T12:55:49.930894Z",
          "iopub.status.busy": "2024-02-08T12:55:49.929849Z",
          "iopub.status.idle": "2024-02-08T12:55:49.953107Z",
          "shell.execute_reply": "2024-02-08T12:55:49.952330Z"
        },
        "papermill": {
          "duration": 0.043292,
          "end_time": "2024-02-08T12:55:49.955048",
          "exception": false,
          "start_time": "2024-02-08T12:55:49.911756",
          "status": "completed"
        },
        "tags": [],
        "colab": {
          "base_uri": "https://localhost:8080/"
        },
        "id": "33b603b7",
        "outputId": "a4626b55-c0b9-45d1-d78f-83e1e8c246c7"
      },
      "outputs": [
        {
          "output_type": "execute_result",
          "data": {
            "text/plain": [
              "(    RowNumber  CustomerId    Surname  CreditScore Geography  Gender  Age  \\\n",
              " 0           1    15634602   Hargrave          619    France  Female   42   \n",
              " 1           2    15647311       Hill          608     Spain  Female   41   \n",
              " 2           3    15619304       Onio          502    France  Female   42   \n",
              " 3           4    15701354       Boni          699    France  Female   39   \n",
              " 4           5    15737888   Mitchell          850     Spain  Female   43   \n",
              " 5           6    15574012        Chu          645     Spain    Male   44   \n",
              " 6           7    15592531   Bartlett          822    France    Male   50   \n",
              " 7           8    15656148     Obinna          376   Germany  Female   29   \n",
              " 8           9    15792365         He          501    France    Male   44   \n",
              " 9          10    15592389         H?          684    France    Male   27   \n",
              " 10         11    15767821     Bearce          528    France    Male   31   \n",
              " 11         12    15737173    Andrews          497     Spain    Male   24   \n",
              " 12         13    15632264        Kay          476    France  Female   34   \n",
              " 13         14    15691483       Chin          549    France  Female   25   \n",
              " 14         15    15600882      Scott          635     Spain  Female   35   \n",
              " 15         16    15643966    Goforth          616   Germany    Male   45   \n",
              " 16         17    15737452      Romeo          653   Germany    Male   58   \n",
              " 17         18    15788218  Henderson          549     Spain  Female   24   \n",
              " 18         19    15661507    Muldrow          587     Spain    Male   45   \n",
              " 19         20    15568982        Hao          726    France  Female   24   \n",
              " \n",
              "     Tenure    Balance  NumOfProducts  HasCrCard  IsActiveMember  \\\n",
              " 0        2       0.00              1          1               1   \n",
              " 1        1   83807.86              1          0               1   \n",
              " 2        8  159660.80              3          1               0   \n",
              " 3        1       0.00              2          0               0   \n",
              " 4        2  125510.82              1          1               1   \n",
              " 5        8  113755.78              2          1               0   \n",
              " 6        7       0.00              2          1               1   \n",
              " 7        4  115046.74              4          1               0   \n",
              " 8        4  142051.07              2          0               1   \n",
              " 9        2  134603.88              1          1               1   \n",
              " 10       6  102016.72              2          0               0   \n",
              " 11       3       0.00              2          1               0   \n",
              " 12      10       0.00              2          1               0   \n",
              " 13       5       0.00              2          0               0   \n",
              " 14       7       0.00              2          1               1   \n",
              " 15       3  143129.41              2          0               1   \n",
              " 16       1  132602.88              1          1               0   \n",
              " 17       9       0.00              2          1               1   \n",
              " 18       6       0.00              1          0               0   \n",
              " 19       6       0.00              2          1               1   \n",
              " \n",
              "     EstimatedSalary  Exited  \n",
              " 0         101348.88       1  \n",
              " 1         112542.58       0  \n",
              " 2         113931.57       1  \n",
              " 3          93826.63       0  \n",
              " 4          79084.10       0  \n",
              " 5         149756.71       1  \n",
              " 6          10062.80       0  \n",
              " 7         119346.88       1  \n",
              " 8          74940.50       0  \n",
              " 9          71725.73       0  \n",
              " 10         80181.12       0  \n",
              " 11         76390.01       0  \n",
              " 12         26260.98       0  \n",
              " 13        190857.79       0  \n",
              " 14         65951.65       0  \n",
              " 15         64327.26       0  \n",
              " 16          5097.67       1  \n",
              " 17         14406.41       0  \n",
              " 18        158684.81       0  \n",
              " 19         54724.03       0  ,)"
            ]
          },
          "metadata": {},
          "execution_count": 86
        }
      ],
      "source": [
        "df.head(20),"
      ]
    },
    {
      "cell_type": "markdown",
      "id": "192f2c3c",
      "metadata": {
        "papermill": {
          "duration": 0.019437,
          "end_time": "2024-02-08T12:55:49.992226",
          "exception": false,
          "start_time": "2024-02-08T12:55:49.972789",
          "status": "completed"
        },
        "tags": [],
        "id": "192f2c3c"
      },
      "source": [
        "## Outliers and Boxplot"
      ]
    },
    {
      "cell_type": "code",
      "execution_count": null,
      "id": "94913f1e",
      "metadata": {
        "execution": {
          "iopub.execute_input": "2024-02-08T12:55:50.029207Z",
          "iopub.status.busy": "2024-02-08T12:55:50.028500Z",
          "iopub.status.idle": "2024-02-08T12:55:50.033941Z",
          "shell.execute_reply": "2024-02-08T12:55:50.033052Z"
        },
        "papermill": {
          "duration": 0.026126,
          "end_time": "2024-02-08T12:55:50.035871",
          "exception": false,
          "start_time": "2024-02-08T12:55:50.009745",
          "status": "completed"
        },
        "tags": [],
        "colab": {
          "base_uri": "https://localhost:8080/"
        },
        "id": "94913f1e",
        "outputId": "30e1cab6-a5ce-43a8-f91f-24236090240f"
      },
      "outputs": [
        {
          "output_type": "execute_result",
          "data": {
            "text/plain": [
              "(10000, 11)"
            ]
          },
          "metadata": {},
          "execution_count": 29
        }
      ],
      "source": [
        "df.shape"
      ]
    },
    {
      "cell_type": "code",
      "execution_count": null,
      "id": "e51e64d7",
      "metadata": {
        "execution": {
          "iopub.execute_input": "2024-02-08T12:55:50.074418Z",
          "iopub.status.busy": "2024-02-08T12:55:50.073706Z",
          "iopub.status.idle": "2024-02-08T12:55:50.079805Z",
          "shell.execute_reply": "2024-02-08T12:55:50.079074Z"
        },
        "papermill": {
          "duration": 0.027767,
          "end_time": "2024-02-08T12:55:50.081618",
          "exception": false,
          "start_time": "2024-02-08T12:55:50.053851",
          "status": "completed"
        },
        "tags": [],
        "colab": {
          "base_uri": "https://localhost:8080/"
        },
        "id": "e51e64d7",
        "outputId": "3218926b-7452-48d4-c76f-797ee80372e1"
      },
      "outputs": [
        {
          "output_type": "execute_result",
          "data": {
            "text/plain": [
              "['CreditScore',\n",
              " 'Tenure',\n",
              " 'Balance',\n",
              " 'NumOfProducts',\n",
              " 'HasCrCard',\n",
              " 'IsActiveMember',\n",
              " 'EstimatedSalary',\n",
              " 'Exited']"
            ]
          },
          "metadata": {},
          "execution_count": 30
        }
      ],
      "source": [
        "list = df.columns.tolist()\n",
        "list.remove(\"Geography\")\n",
        "list.remove(\"Age\")\n",
        "list.remove(\"Gender\")\n",
        "list"
      ]
    },
    {
      "cell_type": "code",
      "execution_count": null,
      "id": "6e3960dc",
      "metadata": {
        "execution": {
          "iopub.execute_input": "2024-02-08T12:55:50.118695Z",
          "iopub.status.busy": "2024-02-08T12:55:50.118308Z",
          "iopub.status.idle": "2024-02-08T12:55:51.647223Z",
          "shell.execute_reply": "2024-02-08T12:55:51.646094Z"
        },
        "papermill": {
          "duration": 1.549924,
          "end_time": "2024-02-08T12:55:51.649288",
          "exception": false,
          "start_time": "2024-02-08T12:55:50.099364",
          "status": "completed"
        },
        "tags": [],
        "colab": {
          "base_uri": "https://localhost:8080/",
          "height": 627
        },
        "id": "6e3960dc",
        "outputId": "ce6b8ba5-7766-4fc2-8434-5a2df062309c"
      },
      "outputs": [
        {
          "output_type": "display_data",
          "data": {
            "text/plain": [
              "<Figure size 1600x900 with 8 Axes>"
            ],
            "image/png": "[encoded data removed]"
          },
          "metadata": {}
        }
      ],
      "source": [
        "fig, axs = plt.subplots(nrows=4, ncols=2, figsize=(16,9))\n",
        "axs = axs.flatten()\n",
        "for idx,column in enumerate(list):\n",
        "    seaborn.boxplot(data=df[column], ax=axs[idx])\n",
        "    axs[idx].set_title(column)\n",
        "plt.tight_layout()"
      ]
    },
    {
      "cell_type": "markdown",
      "id": "52e8c97a",
      "metadata": {
        "papermill": {
          "duration": 0.018161,
          "end_time": "2024-02-08T12:55:51.686495",
          "exception": false,
          "start_time": "2024-02-08T12:55:51.668334",
          "status": "completed"
        },
        "tags": [],
        "id": "52e8c97a"
      },
      "source": [
        "Not much of outliers are present. Only in credit score column, there are some very low values which makes sense cause low credit score is a normal phenomena. Also in NumOfProducts column, the outlier value is 4 which is also normal because a person can use multiple products from a bank if he/she deems it necessary. Other than these, there are not much outliers according to this boxplot illustration. So, moving on."
      ]
    },
    {
      "cell_type": "markdown",
      "id": "23db1f30",
      "metadata": {
        "papermill": {
          "duration": 0.018211,
          "end_time": "2024-02-08T12:55:51.723234",
          "exception": false,
          "start_time": "2024-02-08T12:55:51.705023",
          "status": "completed"
        },
        "tags": [],
        "id": "23db1f30"
      },
      "source": [
        "## Correlations"
      ]
    },
    {
      "cell_type": "code",
      "execution_count": null,
      "id": "288d2b67",
      "metadata": {
        "execution": {
          "iopub.execute_input": "2024-02-08T12:55:51.761675Z",
          "iopub.status.busy": "2024-02-08T12:55:51.761025Z",
          "iopub.status.idle": "2024-02-08T12:55:52.393595Z",
          "shell.execute_reply": "2024-02-08T12:55:52.392483Z"
        },
        "papermill": {
          "duration": 0.654911,
          "end_time": "2024-02-08T12:55:52.396446",
          "exception": false,
          "start_time": "2024-02-08T12:55:51.741535",
          "status": "completed"
        },
        "tags": [],
        "colab": {
          "base_uri": "https://localhost:8080/",
          "height": 569
        },
        "id": "288d2b67",
        "outputId": "6ebf404e-83c8-4c93-fee8-be0f86a146c8"
      },
      "outputs": [
        {
          "output_type": "execute_result",
          "data": {
            "text/plain": [
              "<Axes: >"
            ]
          },
          "metadata": {},
          "execution_count": 32
        },
        {
          "output_type": "display_data",
          "data": {
            "text/plain": [
              "<Figure size 640x480 with 2 Axes>"
            ],
            "image/png": "[encoded data removed]"
          },
          "metadata": {}
        }
      ],
      "source": [
        "corr = shadow.drop(['Gender', \"Geography\"], axis=1)\n",
        "corr_matrix = corr.corr()\n",
        "seaborn.heatmap(corr_matrix, annot=True, fmt=\".0%\")"
      ]
    },
    {
      "cell_type": "markdown",
      "id": "78e11649",
      "metadata": {
        "papermill": {
          "duration": 0.067688,
          "end_time": "2024-02-08T12:56:11.451790",
          "exception": false,
          "start_time": "2024-02-08T12:56:11.384102",
          "status": "completed"
        },
        "tags": [],
        "id": "78e11649"
      },
      "source": [
        "# Encoding Necessary Features"
      ]
    },
    {
      "cell_type": "code",
      "execution_count": null,
      "id": "b0e233b5",
      "metadata": {
        "execution": {
          "iopub.execute_input": "2024-02-08T12:56:11.585586Z",
          "iopub.status.busy": "2024-02-08T12:56:11.585207Z",
          "iopub.status.idle": "2024-02-08T12:56:11.595532Z",
          "shell.execute_reply": "2024-02-08T12:56:11.594516Z"
        },
        "papermill": {
          "duration": 0.080058,
          "end_time": "2024-02-08T12:56:11.597917",
          "exception": false,
          "start_time": "2024-02-08T12:56:11.517859",
          "status": "completed"
        },
        "tags": [],
        "id": "b0e233b5"
      },
      "outputs": [],
      "source": [
        "df = pd.get_dummies(data=df)"
      ]
    },
    {
      "cell_type": "code",
      "execution_count": null,
      "id": "cc002ef5",
      "metadata": {
        "execution": {
          "iopub.execute_input": "2024-02-08T12:56:11.733375Z",
          "iopub.status.busy": "2024-02-08T12:56:11.732485Z",
          "iopub.status.idle": "2024-02-08T12:56:11.759392Z",
          "shell.execute_reply": "2024-02-08T12:56:11.758264Z"
        },
        "papermill": {
          "duration": 0.097616,
          "end_time": "2024-02-08T12:56:11.761701",
          "exception": false,
          "start_time": "2024-02-08T12:56:11.664085",
          "status": "completed"
        },
        "tags": [],
        "colab": {
          "base_uri": "https://localhost:8080/"
        },
        "id": "cc002ef5",
        "outputId": "8a231522-8be7-4dfb-b393-bd62479a6033"
      },
      "outputs": [
        {
          "output_type": "execute_result",
          "data": {
            "text/plain": [
              "(    RowNumber  CustomerId    Surname  CreditScore Geography  Gender  Age  \\\n",
              " 0           1    15634602   Hargrave          619    France  Female   42   \n",
              " 1           2    15647311       Hill          608     Spain  Female   41   \n",
              " 2           3    15619304       Onio          502    France  Female   42   \n",
              " 3           4    15701354       Boni          699    France  Female   39   \n",
              " 4           5    15737888   Mitchell          850     Spain  Female   43   \n",
              " 5           6    15574012        Chu          645     Spain    Male   44   \n",
              " 6           7    15592531   Bartlett          822    France    Male   50   \n",
              " 7           8    15656148     Obinna          376   Germany  Female   29   \n",
              " 8           9    15792365         He          501    France    Male   44   \n",
              " 9          10    15592389         H?          684    France    Male   27   \n",
              " 10         11    15767821     Bearce          528    France    Male   31   \n",
              " 11         12    15737173    Andrews          497     Spain    Male   24   \n",
              " 12         13    15632264        Kay          476    France  Female   34   \n",
              " 13         14    15691483       Chin          549    France  Female   25   \n",
              " 14         15    15600882      Scott          635     Spain  Female   35   \n",
              " 15         16    15643966    Goforth          616   Germany    Male   45   \n",
              " 16         17    15737452      Romeo          653   Germany    Male   58   \n",
              " 17         18    15788218  Henderson          549     Spain  Female   24   \n",
              " 18         19    15661507    Muldrow          587     Spain    Male   45   \n",
              " 19         20    15568982        Hao          726    France  Female   24   \n",
              " \n",
              "     Tenure    Balance  NumOfProducts  HasCrCard  IsActiveMember  \\\n",
              " 0        2       0.00              1          1               1   \n",
              " 1        1   83807.86              1          0               1   \n",
              " 2        8  159660.80              3          1               0   \n",
              " 3        1       0.00              2          0               0   \n",
              " 4        2  125510.82              1          1               1   \n",
              " 5        8  113755.78              2          1               0   \n",
              " 6        7       0.00              2          1               1   \n",
              " 7        4  115046.74              4          1               0   \n",
              " 8        4  142051.07              2          0               1   \n",
              " 9        2  134603.88              1          1               1   \n",
              " 10       6  102016.72              2          0               0   \n",
              " 11       3       0.00              2          1               0   \n",
              " 12      10       0.00              2          1               0   \n",
              " 13       5       0.00              2          0               0   \n",
              " 14       7       0.00              2          1               1   \n",
              " 15       3  143129.41              2          0               1   \n",
              " 16       1  132602.88              1          1               0   \n",
              " 17       9       0.00              2          1               1   \n",
              " 18       6       0.00              1          0               0   \n",
              " 19       6       0.00              2          1               1   \n",
              " \n",
              "     EstimatedSalary  Exited  \n",
              " 0         101348.88       1  \n",
              " 1         112542.58       0  \n",
              " 2         113931.57       1  \n",
              " 3          93826.63       0  \n",
              " 4          79084.10       0  \n",
              " 5         149756.71       1  \n",
              " 6          10062.80       0  \n",
              " 7         119346.88       1  \n",
              " 8          74940.50       0  \n",
              " 9          71725.73       0  \n",
              " 10         80181.12       0  \n",
              " 11         76390.01       0  \n",
              " 12         26260.98       0  \n",
              " 13        190857.79       0  \n",
              " 14         65951.65       0  \n",
              " 15         64327.26       0  \n",
              " 16          5097.67       1  \n",
              " 17         14406.41       0  \n",
              " 18        158684.81       0  \n",
              " 19         54724.03       0  ,)"
            ]
          },
          "metadata": {},
          "execution_count": 89
        }
      ],
      "source": [
        "df.head(20),"
      ]
    },
    {
      "cell_type": "markdown",
      "id": "80157f3e",
      "metadata": {
        "papermill": {
          "duration": 0.066669,
          "end_time": "2024-02-08T12:56:11.895255",
          "exception": false,
          "start_time": "2024-02-08T12:56:11.828586",
          "status": "completed"
        },
        "tags": [],
        "id": "80157f3e"
      },
      "source": [
        "# Model Training & Evaluation"
      ]
    },
    {
      "cell_type": "code",
      "execution_count": null,
      "id": "777939aa",
      "metadata": {
        "execution": {
          "iopub.execute_input": "2024-02-08T12:56:12.031924Z",
          "iopub.status.busy": "2024-02-08T12:56:12.031030Z",
          "iopub.status.idle": "2024-02-08T12:56:12.036569Z",
          "shell.execute_reply": "2024-02-08T12:56:12.035865Z"
        },
        "papermill": {
          "duration": 0.076034,
          "end_time": "2024-02-08T12:56:12.038645",
          "exception": false,
          "start_time": "2024-02-08T12:56:11.962611",
          "status": "completed"
        },
        "tags": [],
        "id": "777939aa"
      },
      "outputs": [],
      "source": [
        "features = df.drop([\"Exited\"], axis=1)\n",
        "label = df[\"Exited\"]"
      ]
    },
    {
      "cell_type": "code",
      "execution_count": null,
      "id": "ee1ffe5e",
      "metadata": {
        "execution": {
          "iopub.execute_input": "2024-02-08T12:56:12.173225Z",
          "iopub.status.busy": "2024-02-08T12:56:12.172826Z",
          "iopub.status.idle": "2024-02-08T12:56:12.181048Z",
          "shell.execute_reply": "2024-02-08T12:56:12.179995Z"
        },
        "papermill": {
          "duration": 0.078189,
          "end_time": "2024-02-08T12:56:12.182982",
          "exception": false,
          "start_time": "2024-02-08T12:56:12.104793",
          "status": "completed"
        },
        "tags": [],
        "id": "ee1ffe5e"
      },
      "outputs": [],
      "source": [
        "feature_train, feature_test, label_train, label_test = train_test_split(features, label, test_size=0.2, random_state=0)"
      ]
    },
    {
      "cell_type": "markdown",
      "id": "6ab1f856",
      "metadata": {
        "papermill": {
          "duration": 0.06644,
          "end_time": "2024-02-08T12:56:12.315464",
          "exception": false,
          "start_time": "2024-02-08T12:56:12.249024",
          "status": "completed"
        },
        "tags": [],
        "id": "6ab1f856"
      },
      "source": [
        "## Model Training"
      ]
    },
    {
      "cell_type": "code",
      "execution_count": null,
      "id": "b61a365d",
      "metadata": {
        "execution": {
          "iopub.execute_input": "2024-02-08T12:56:12.452635Z",
          "iopub.status.busy": "2024-02-08T12:56:12.452206Z",
          "iopub.status.idle": "2024-02-08T12:56:12.456536Z",
          "shell.execute_reply": "2024-02-08T12:56:12.455770Z"
        },
        "papermill": {
          "duration": 0.075713,
          "end_time": "2024-02-08T12:56:12.458451",
          "exception": false,
          "start_time": "2024-02-08T12:56:12.382738",
          "status": "completed"
        },
        "tags": [],
        "id": "b61a365d"
      },
      "outputs": [],
      "source": [
        "LR = LogisticRegression()\n",
        "CT = DecisionTreeClassifier()\n",
        "RF = RandomForestClassifier()"
      ]
    },
    {
      "cell_type": "markdown",
      "id": "cae977ec",
      "metadata": {
        "papermill": {
          "duration": 0.065686,
          "end_time": "2024-02-08T12:56:12.589795",
          "exception": false,
          "start_time": "2024-02-08T12:56:12.524109",
          "status": "completed"
        },
        "tags": [],
        "id": "cae977ec"
      },
      "source": [
        "### Logistic Regression"
      ]
    },
    {
      "cell_type": "code",
      "execution_count": null,
      "id": "fb4fe118",
      "metadata": {
        "execution": {
          "iopub.execute_input": "2024-02-08T12:56:12.723483Z",
          "iopub.status.busy": "2024-02-08T12:56:12.723068Z",
          "iopub.status.idle": "2024-02-08T12:56:12.798431Z",
          "shell.execute_reply": "2024-02-08T12:56:12.797287Z"
        },
        "papermill": {
          "duration": 0.145381,
          "end_time": "2024-02-08T12:56:12.801231",
          "exception": false,
          "start_time": "2024-02-08T12:56:12.655850",
          "status": "completed"
        },
        "tags": [],
        "colab": {
          "base_uri": "https://localhost:8080/",
          "height": 75
        },
        "id": "fb4fe118",
        "outputId": "2013e764-1f69-427d-e834-7ebdcb872607"
      },
      "outputs": [
        {
          "output_type": "execute_result",
          "data": {
            "text/plain": [
              "LogisticRegression()"
            ],
            "text/html": [
              "<style>#sk-container-id-1 {color: black;background-color: white;}#sk-container-id-1 pre{padding: 0;}#sk-container-id-1 div.sk-toggleable {background-color: white;}#sk-container-id-1 label.sk-toggleable__label {cursor: pointer;display: block;width: 100%;margin-bottom: 0;padding: 0.3em;box-sizing: border-box;text-align: center;}#sk-container-id-1 label.sk-toggleable__label-arrow:before {content: \"▸\";float: left;margin-right: 0.25em;color: #696969;}#sk-container-id-1 label.sk-toggleable__label-arrow:hover:before {color: black;}#sk-container-id-1 div.sk-estimator:hover label.sk-toggleable__label-arrow:before {color: black;}#sk-container-id-1 div.sk-toggleable__content {max-height: 0;max-width: 0;overflow: hidden;text-align: left;background-color: #f0f8ff;}#sk-container-id-1 div.sk-toggleable__content pre {margin: 0.2em;color: black;border-radius: 0.25em;background-color: #f0f8ff;}#sk-container-id-1 input.sk-toggleable__control:checked~div.sk-toggleable__content {max-height: 200px;max-width: 100%;overflow: auto;}#sk-container-id-1 input.sk-toggleable__control:checked~label.sk-toggleable__label-arrow:before {content: \"▾\";}#sk-container-id-1 div.sk-estimator input.sk-toggleable__control:checked~label.sk-toggleable__label {background-color: #d4ebff;}#sk-container-id-1 div.sk-label input.sk-toggleable__control:checked~label.sk-toggleable__label {background-color: #d4ebff;}#sk-container-id-1 input.sk-hidden--visually {border: 0;clip: rect(1px 1px 1px 1px);clip: rect(1px, 1px, 1px, 1px);height: 1px;margin: -1px;overflow: hidden;padding: 0;position: absolute;width: 1px;}#sk-container-id-1 div.sk-estimator {font-family: monospace;background-color: #f0f8ff;border: 1px dotted black;border-radius: 0.25em;box-sizing: border-box;margin-bottom: 0.5em;}#sk-container-id-1 div.sk-estimator:hover {background-color: #d4ebff;}#sk-container-id-1 div.sk-parallel-item::after {content: \"\";width: 100%;border-bottom: 1px solid gray;flex-grow: 1;}#sk-container-id-1 div.sk-label:hover label.sk-toggleable__label {background-color: #d4ebff;}#sk-container-id-1 div.sk-serial::before {content: \"\";position: absolute;border-left: 1px solid gray;box-sizing: border-box;top: 0;bottom: 0;left: 50%;z-index: 0;}#sk-container-id-1 div.sk-serial {display: flex;flex-direction: column;align-items: center;background-color: white;padding-right: 0.2em;padding-left: 0.2em;position: relative;}#sk-container-id-1 div.sk-item {position: relative;z-index: 1;}#sk-container-id-1 div.sk-parallel {display: flex;align-items: stretch;justify-content: center;background-color: white;position: relative;}#sk-container-id-1 div.sk-item::before, #sk-container-id-1 div.sk-parallel-item::before {content: \"\";position: absolute;border-left: 1px solid gray;box-sizing: border-box;top: 0;bottom: 0;left: 50%;z-index: -1;}#sk-container-id-1 div.sk-parallel-item {display: flex;flex-direction: column;z-index: 1;position: relative;background-color: white;}#sk-container-id-1 div.sk-parallel-item:first-child::after {align-self: flex-end;width: 50%;}#sk-container-id-1 div.sk-parallel-item:last-child::after {align-self: flex-start;width: 50%;}#sk-container-id-1 div.sk-parallel-item:only-child::after {width: 0;}#sk-container-id-1 div.sk-dashed-wrapped {border: 1px dashed gray;margin: 0 0.4em 0.5em 0.4em;box-sizing: border-box;padding-bottom: 0.4em;background-color: white;}#sk-container-id-1 div.sk-label label {font-family: monospace;font-weight: bold;display: inline-block;line-height: 1.2em;}#sk-container-id-1 div.sk-label-container {text-align: center;}#sk-container-id-1 div.sk-container {/* jupyter's `normalize.less` sets `[hidden] { display: none; }` but bootstrap.min.css set `[hidden] { display: none !important; }` so we also need the `!important` here to be able to override the default hidden behavior on the sphinx rendered scikit-learn.org. See: https://github.com/scikit-learn/scikit-learn/issues/21755 */display: inline-block !important;position: relative;}#sk-container-id-1 div.sk-text-repr-fallback {display: none;}</style><div id=\"sk-container-id-1\" class=\"sk-top-container\"><div class=\"sk-text-repr-fallback\"><pre>LogisticRegression()</pre><b>In a Jupyter environment, please rerun this cell to show the HTML representation or trust the notebook. <br />On GitHub, the HTML representation is unable to render, please try loading this page with nbviewer.org.</b></div><div class=\"sk-container\" hidden><div class=\"sk-item\"><div class=\"sk-estimator sk-toggleable\"><input class=\"sk-toggleable__control sk-hidden--visually\" id=\"sk-estimator-id-1\" type=\"checkbox\" checked><label for=\"sk-estimator-id-1\" class=\"sk-toggleable__label sk-toggleable__label-arrow\">LogisticRegression</label><div class=\"sk-toggleable__content\"><pre>LogisticRegression()</pre></div></div></div></div></div>"
            ]
          },
          "metadata": {},
          "execution_count": 42
        }
      ],
      "source": [
        "LR.fit(feature_train, label_train)"
      ]
    },
    {
      "cell_type": "code",
      "execution_count": null,
      "id": "6463b226",
      "metadata": {
        "execution": {
          "iopub.execute_input": "2024-02-08T12:56:12.991272Z",
          "iopub.status.busy": "2024-02-08T12:56:12.990805Z",
          "iopub.status.idle": "2024-02-08T12:56:12.999333Z",
          "shell.execute_reply": "2024-02-08T12:56:12.998346Z"
        },
        "papermill": {
          "duration": 0.08117,
          "end_time": "2024-02-08T12:56:13.002046",
          "exception": false,
          "start_time": "2024-02-08T12:56:12.920876",
          "status": "completed"
        },
        "tags": [],
        "id": "6463b226"
      },
      "outputs": [],
      "source": [
        "lr_prediction = LR.predict(feature_test)"
      ]
    },
    {
      "cell_type": "code",
      "execution_count": null,
      "id": "d91f17ae",
      "metadata": {
        "execution": {
          "iopub.execute_input": "2024-02-08T12:56:13.189988Z",
          "iopub.status.busy": "2024-02-08T12:56:13.189570Z",
          "iopub.status.idle": "2024-02-08T12:56:13.198691Z",
          "shell.execute_reply": "2024-02-08T12:56:13.197683Z"
        },
        "papermill": {
          "duration": 0.079917,
          "end_time": "2024-02-08T12:56:13.200783",
          "exception": false,
          "start_time": "2024-02-08T12:56:13.120866",
          "status": "completed"
        },
        "tags": [],
        "colab": {
          "base_uri": "https://localhost:8080/"
        },
        "id": "d91f17ae",
        "outputId": "aa5e508f-030f-4cd7-9190-a58ce848a1ed"
      },
      "outputs": [
        {
          "output_type": "execute_result",
          "data": {
            "text/plain": [
              "78.9"
            ]
          },
          "metadata": {},
          "execution_count": 44
        }
      ],
      "source": [
        "accuracy_score(label_test, lr_prediction) * 100"
      ]
    },
    {
      "cell_type": "code",
      "execution_count": null,
      "id": "2e64a516",
      "metadata": {
        "execution": {
          "iopub.execute_input": "2024-02-08T12:56:13.336937Z",
          "iopub.status.busy": "2024-02-08T12:56:13.336485Z",
          "iopub.status.idle": "2024-02-08T12:56:13.351952Z",
          "shell.execute_reply": "2024-02-08T12:56:13.350549Z"
        },
        "papermill": {
          "duration": 0.086561,
          "end_time": "2024-02-08T12:56:13.354140",
          "exception": false,
          "start_time": "2024-02-08T12:56:13.267579",
          "status": "completed"
        },
        "tags": [],
        "colab": {
          "base_uri": "https://localhost:8080/"
        },
        "id": "2e64a516",
        "outputId": "d29d25a4-364d-46f4-af12-3e15a0b130af"
      },
      "outputs": [
        {
          "output_type": "stream",
          "name": "stdout",
          "text": [
            "              precision    recall  f1-score   support\n",
            "\n",
            "           0       0.80      0.97      0.88      1595\n",
            "           1       0.37      0.06      0.11       405\n",
            "\n",
            "    accuracy                           0.79      2000\n",
            "   macro avg       0.59      0.52      0.49      2000\n",
            "weighted avg       0.72      0.79      0.72      2000\n",
            "\n"
          ]
        }
      ],
      "source": [
        "print(classification_report(label_test, lr_prediction))"
      ]
    },
    {
      "cell_type": "code",
      "execution_count": null,
      "id": "bfd8795f",
      "metadata": {
        "execution": {
          "iopub.execute_input": "2024-02-08T12:56:13.493177Z",
          "iopub.status.busy": "2024-02-08T12:56:13.492604Z",
          "iopub.status.idle": "2024-02-08T12:56:13.766121Z",
          "shell.execute_reply": "2024-02-08T12:56:13.764792Z"
        },
        "papermill": {
          "duration": 0.346097,
          "end_time": "2024-02-08T12:56:13.768399",
          "exception": false,
          "start_time": "2024-02-08T12:56:13.422302",
          "status": "completed"
        },
        "tags": [],
        "colab": {
          "base_uri": "https://localhost:8080/",
          "height": 476
        },
        "id": "bfd8795f",
        "outputId": "084ba299-6446-4b61-f156-78d46b52ba9b"
      },
      "outputs": [
        {
          "output_type": "execute_result",
          "data": {
            "text/plain": [
              "<sklearn.metrics._plot.confusion_matrix.ConfusionMatrixDisplay at 0x7e12114bc3a0>"
            ]
          },
          "metadata": {},
          "execution_count": 46
        },
        {
          "output_type": "display_data",
          "data": {
            "text/plain": [
              "<Figure size 640x480 with 2 Axes>"
            ],
            "image/png": "[encoded data removed]"
          },
          "metadata": {}
        }
      ],
      "source": [
        "ConfusionMatrixDisplay(confusion_matrix(label_test, lr_prediction),display_labels=LR.classes_).plot()"
      ]
    },
    {
      "cell_type": "code",
      "execution_count": null,
      "id": "2e5a27b6",
      "metadata": {
        "execution": {
          "iopub.execute_input": "2024-02-08T12:56:13.908687Z",
          "iopub.status.busy": "2024-02-08T12:56:13.908038Z",
          "iopub.status.idle": "2024-02-08T12:56:13.916847Z",
          "shell.execute_reply": "2024-02-08T12:56:13.915837Z"
        },
        "papermill": {
          "duration": 0.081831,
          "end_time": "2024-02-08T12:56:13.918970",
          "exception": false,
          "start_time": "2024-02-08T12:56:13.837139",
          "status": "completed"
        },
        "tags": [],
        "colab": {
          "base_uri": "https://localhost:8080/"
        },
        "id": "2e5a27b6",
        "outputId": "379f4b5c-ef3a-4d82-93a9-94431939f7fa"
      },
      "outputs": [
        {
          "output_type": "execute_result",
          "data": {
            "text/plain": [
              "array([[1553,   42],\n",
              "       [ 380,   25]])"
            ]
          },
          "metadata": {},
          "execution_count": 47
        }
      ],
      "source": [
        "confusion_matrix(label_test, lr_prediction)"
      ]
    },
    {
      "cell_type": "markdown",
      "id": "f065c035",
      "metadata": {
        "papermill": {
          "duration": 0.068618,
          "end_time": "2024-02-08T12:56:14.057770",
          "exception": false,
          "start_time": "2024-02-08T12:56:13.989152",
          "status": "completed"
        },
        "tags": [],
        "id": "f065c035"
      },
      "source": [
        "### Decision Tree"
      ]
    },
    {
      "cell_type": "code",
      "execution_count": null,
      "id": "73693383",
      "metadata": {
        "execution": {
          "iopub.execute_input": "2024-02-08T12:56:14.201845Z",
          "iopub.status.busy": "2024-02-08T12:56:14.201026Z",
          "iopub.status.idle": "2024-02-08T12:56:14.264487Z",
          "shell.execute_reply": "2024-02-08T12:56:14.263448Z"
        },
        "papermill": {
          "duration": 0.139227,
          "end_time": "2024-02-08T12:56:14.266676",
          "exception": false,
          "start_time": "2024-02-08T12:56:14.127449",
          "status": "completed"
        },
        "tags": [],
        "colab": {
          "base_uri": "https://localhost:8080/",
          "height": 75
        },
        "id": "73693383",
        "outputId": "195ab931-9172-4dc3-ad4e-bad767c643d7"
      },
      "outputs": [
        {
          "output_type": "execute_result",
          "data": {
            "text/plain": [
              "DecisionTreeClassifier()"
            ],
            "text/html": [
              "<style>#sk-container-id-2 {color: black;background-color: white;}#sk-container-id-2 pre{padding: 0;}#sk-container-id-2 div.sk-toggleable {background-color: white;}#sk-container-id-2 label.sk-toggleable__label {cursor: pointer;display: block;width: 100%;margin-bottom: 0;padding: 0.3em;box-sizing: border-box;text-align: center;}#sk-container-id-2 label.sk-toggleable__label-arrow:before {content: \"▸\";float: left;margin-right: 0.25em;color: #696969;}#sk-container-id-2 label.sk-toggleable__label-arrow:hover:before {color: black;}#sk-container-id-2 div.sk-estimator:hover label.sk-toggleable__label-arrow:before {color: black;}#sk-container-id-2 div.sk-toggleable__content {max-height: 0;max-width: 0;overflow: hidden;text-align: left;background-color: #f0f8ff;}#sk-container-id-2 div.sk-toggleable__content pre {margin: 0.2em;color: black;border-radius: 0.25em;background-color: #f0f8ff;}#sk-container-id-2 input.sk-toggleable__control:checked~div.sk-toggleable__content {max-height: 200px;max-width: 100%;overflow: auto;}#sk-container-id-2 input.sk-toggleable__control:checked~label.sk-toggleable__label-arrow:before {content: \"▾\";}#sk-container-id-2 div.sk-estimator input.sk-toggleable__control:checked~label.sk-toggleable__label {background-color: #d4ebff;}#sk-container-id-2 div.sk-label input.sk-toggleable__control:checked~label.sk-toggleable__label {background-color: #d4ebff;}#sk-container-id-2 input.sk-hidden--visually {border: 0;clip: rect(1px 1px 1px 1px);clip: rect(1px, 1px, 1px, 1px);height: 1px;margin: -1px;overflow: hidden;padding: 0;position: absolute;width: 1px;}#sk-container-id-2 div.sk-estimator {font-family: monospace;background-color: #f0f8ff;border: 1px dotted black;border-radius: 0.25em;box-sizing: border-box;margin-bottom: 0.5em;}#sk-container-id-2 div.sk-estimator:hover {background-color: #d4ebff;}#sk-container-id-2 div.sk-parallel-item::after {content: \"\";width: 100%;border-bottom: 1px solid gray;flex-grow: 1;}#sk-container-id-2 div.sk-label:hover label.sk-toggleable__label {background-color: #d4ebff;}#sk-container-id-2 div.sk-serial::before {content: \"\";position: absolute;border-left: 1px solid gray;box-sizing: border-box;top: 0;bottom: 0;left: 50%;z-index: 0;}#sk-container-id-2 div.sk-serial {display: flex;flex-direction: column;align-items: center;background-color: white;padding-right: 0.2em;padding-left: 0.2em;position: relative;}#sk-container-id-2 div.sk-item {position: relative;z-index: 1;}#sk-container-id-2 div.sk-parallel {display: flex;align-items: stretch;justify-content: center;background-color: white;position: relative;}#sk-container-id-2 div.sk-item::before, #sk-container-id-2 div.sk-parallel-item::before {content: \"\";position: absolute;border-left: 1px solid gray;box-sizing: border-box;top: 0;bottom: 0;left: 50%;z-index: -1;}#sk-container-id-2 div.sk-parallel-item {display: flex;flex-direction: column;z-index: 1;position: relative;background-color: white;}#sk-container-id-2 div.sk-parallel-item:first-child::after {align-self: flex-end;width: 50%;}#sk-container-id-2 div.sk-parallel-item:last-child::after {align-self: flex-start;width: 50%;}#sk-container-id-2 div.sk-parallel-item:only-child::after {width: 0;}#sk-container-id-2 div.sk-dashed-wrapped {border: 1px dashed gray;margin: 0 0.4em 0.5em 0.4em;box-sizing: border-box;padding-bottom: 0.4em;background-color: white;}#sk-container-id-2 div.sk-label label {font-family: monospace;font-weight: bold;display: inline-block;line-height: 1.2em;}#sk-container-id-2 div.sk-label-container {text-align: center;}#sk-container-id-2 div.sk-container {/* jupyter's `normalize.less` sets `[hidden] { display: none; }` but bootstrap.min.css set `[hidden] { display: none !important; }` so we also need the `!important` here to be able to override the default hidden behavior on the sphinx rendered scikit-learn.org. See: https://github.com/scikit-learn/scikit-learn/issues/21755 */display: inline-block !important;position: relative;}#sk-container-id-2 div.sk-text-repr-fallback {display: none;}</style><div id=\"sk-container-id-2\" class=\"sk-top-container\"><div class=\"sk-text-repr-fallback\"><pre>DecisionTreeClassifier()</pre><b>In a Jupyter environment, please rerun this cell to show the HTML representation or trust the notebook. <br />On GitHub, the HTML representation is unable to render, please try loading this page with nbviewer.org.</b></div><div class=\"sk-container\" hidden><div class=\"sk-item\"><div class=\"sk-estimator sk-toggleable\"><input class=\"sk-toggleable__control sk-hidden--visually\" id=\"sk-estimator-id-2\" type=\"checkbox\" checked><label for=\"sk-estimator-id-2\" class=\"sk-toggleable__label sk-toggleable__label-arrow\">DecisionTreeClassifier</label><div class=\"sk-toggleable__content\"><pre>DecisionTreeClassifier()</pre></div></div></div></div></div>"
            ]
          },
          "metadata": {},
          "execution_count": 48
        }
      ],
      "source": [
        "CT.fit(feature_train, label_train)"
      ]
    },
    {
      "cell_type": "code",
      "execution_count": null,
      "id": "899007e5",
      "metadata": {
        "execution": {
          "iopub.execute_input": "2024-02-08T12:56:14.406837Z",
          "iopub.status.busy": "2024-02-08T12:56:14.406051Z",
          "iopub.status.idle": "2024-02-08T12:56:14.412613Z",
          "shell.execute_reply": "2024-02-08T12:56:14.411862Z"
        },
        "papermill": {
          "duration": 0.079382,
          "end_time": "2024-02-08T12:56:14.414647",
          "exception": false,
          "start_time": "2024-02-08T12:56:14.335265",
          "status": "completed"
        },
        "tags": [],
        "id": "899007e5"
      },
      "outputs": [],
      "source": [
        "ct_prediction = CT.predict(feature_test)"
      ]
    },
    {
      "cell_type": "code",
      "execution_count": null,
      "id": "43f42212",
      "metadata": {
        "execution": {
          "iopub.execute_input": "2024-02-08T12:56:14.554329Z",
          "iopub.status.busy": "2024-02-08T12:56:14.553305Z",
          "iopub.status.idle": "2024-02-08T12:56:14.561010Z",
          "shell.execute_reply": "2024-02-08T12:56:14.560168Z"
        },
        "papermill": {
          "duration": 0.078806,
          "end_time": "2024-02-08T12:56:14.562859",
          "exception": false,
          "start_time": "2024-02-08T12:56:14.484053",
          "status": "completed"
        },
        "tags": [],
        "colab": {
          "base_uri": "https://localhost:8080/"
        },
        "id": "43f42212",
        "outputId": "fadd9d6e-251a-4633-d3f7-3dea0d973e38"
      },
      "outputs": [
        {
          "output_type": "execute_result",
          "data": {
            "text/plain": [
              "79.85"
            ]
          },
          "metadata": {},
          "execution_count": 50
        }
      ],
      "source": [
        "accuracy_score(label_test, ct_prediction) * 100"
      ]
    },
    {
      "cell_type": "code",
      "execution_count": null,
      "id": "fcd75a27",
      "metadata": {
        "execution": {
          "iopub.execute_input": "2024-02-08T12:56:14.702746Z",
          "iopub.status.busy": "2024-02-08T12:56:14.702093Z",
          "iopub.status.idle": "2024-02-08T12:56:14.716323Z",
          "shell.execute_reply": "2024-02-08T12:56:14.715273Z"
        },
        "papermill": {
          "duration": 0.087373,
          "end_time": "2024-02-08T12:56:14.718896",
          "exception": false,
          "start_time": "2024-02-08T12:56:14.631523",
          "status": "completed"
        },
        "tags": [],
        "colab": {
          "base_uri": "https://localhost:8080/"
        },
        "id": "fcd75a27",
        "outputId": "750b30ca-6e1e-4ff8-d5f6-81e6e47f42d3"
      },
      "outputs": [
        {
          "output_type": "stream",
          "name": "stdout",
          "text": [
            "              precision    recall  f1-score   support\n",
            "\n",
            "           0       0.89      0.86      0.87      1595\n",
            "           1       0.50      0.57      0.54       405\n",
            "\n",
            "    accuracy                           0.80      2000\n",
            "   macro avg       0.69      0.71      0.70      2000\n",
            "weighted avg       0.81      0.80      0.80      2000\n",
            "\n"
          ]
        }
      ],
      "source": [
        "print(classification_report(label_test, ct_prediction))"
      ]
    },
    {
      "cell_type": "code",
      "execution_count": null,
      "id": "15ef0d17",
      "metadata": {
        "execution": {
          "iopub.execute_input": "2024-02-08T12:56:14.859032Z",
          "iopub.status.busy": "2024-02-08T12:56:14.857833Z",
          "iopub.status.idle": "2024-02-08T12:56:15.491436Z",
          "shell.execute_reply": "2024-02-08T12:56:15.490391Z"
        },
        "papermill": {
          "duration": 0.706237,
          "end_time": "2024-02-08T12:56:15.494156",
          "exception": false,
          "start_time": "2024-02-08T12:56:14.787919",
          "status": "completed"
        },
        "tags": [],
        "colab": {
          "base_uri": "https://localhost:8080/",
          "height": 476
        },
        "id": "15ef0d17",
        "outputId": "d295de7c-e26f-4297-cdfb-cda9f340ce98"
      },
      "outputs": [
        {
          "output_type": "execute_result",
          "data": {
            "text/plain": [
              "<sklearn.metrics._plot.confusion_matrix.ConfusionMatrixDisplay at 0x7e12114bd420>"
            ]
          },
          "metadata": {},
          "execution_count": 52
        },
        {
          "output_type": "display_data",
          "data": {
            "text/plain": [
              "<Figure size 640x480 with 2 Axes>"
            ],
            "image/png": "[encoded data removed]"
          },
          "metadata": {}
        }
      ],
      "source": [
        "ConfusionMatrixDisplay(confusion_matrix(label_test, ct_prediction),display_labels=CT.classes_).plot()"
      ]
    },
    {
      "cell_type": "markdown",
      "id": "ab04cb35",
      "metadata": {
        "papermill": {
          "duration": 0.0677,
          "end_time": "2024-02-08T12:56:15.630481",
          "exception": false,
          "start_time": "2024-02-08T12:56:15.562781",
          "status": "completed"
        },
        "tags": [],
        "id": "ab04cb35"
      },
      "source": [
        "### Random Forest"
      ]
    },
    {
      "cell_type": "code",
      "execution_count": null,
      "id": "920d4df0",
      "metadata": {
        "execution": {
          "iopub.execute_input": "2024-02-08T12:56:15.771396Z",
          "iopub.status.busy": "2024-02-08T12:56:15.770662Z",
          "iopub.status.idle": "2024-02-08T12:56:16.958553Z",
          "shell.execute_reply": "2024-02-08T12:56:16.957483Z"
        },
        "papermill": {
          "duration": 1.260694,
          "end_time": "2024-02-08T12:56:16.961012",
          "exception": false,
          "start_time": "2024-02-08T12:56:15.700318",
          "status": "completed"
        },
        "tags": [],
        "colab": {
          "base_uri": "https://localhost:8080/",
          "height": 75
        },
        "id": "920d4df0",
        "outputId": "03a61627-67a2-4d26-c59a-aea7a72300c7"
      },
      "outputs": [
        {
          "output_type": "execute_result",
          "data": {
            "text/plain": [
              "RandomForestClassifier()"
            ],
            "text/html": [
              "<style>#sk-container-id-3 {color: black;background-color: white;}#sk-container-id-3 pre{padding: 0;}#sk-container-id-3 div.sk-toggleable {background-color: white;}#sk-container-id-3 label.sk-toggleable__label {cursor: pointer;display: block;width: 100%;margin-bottom: 0;padding: 0.3em;box-sizing: border-box;text-align: center;}#sk-container-id-3 label.sk-toggleable__label-arrow:before {content: \"▸\";float: left;margin-right: 0.25em;color: #696969;}#sk-container-id-3 label.sk-toggleable__label-arrow:hover:before {color: black;}#sk-container-id-3 div.sk-estimator:hover label.sk-toggleable__label-arrow:before {color: black;}#sk-container-id-3 div.sk-toggleable__content {max-height: 0;max-width: 0;overflow: hidden;text-align: left;background-color: #f0f8ff;}#sk-container-id-3 div.sk-toggleable__content pre {margin: 0.2em;color: black;border-radius: 0.25em;background-color: #f0f8ff;}#sk-container-id-3 input.sk-toggleable__control:checked~div.sk-toggleable__content {max-height: 200px;max-width: 100%;overflow: auto;}#sk-container-id-3 input.sk-toggleable__control:checked~label.sk-toggleable__label-arrow:before {content: \"▾\";}#sk-container-id-3 div.sk-estimator input.sk-toggleable__control:checked~label.sk-toggleable__label {background-color: #d4ebff;}#sk-container-id-3 div.sk-label input.sk-toggleable__control:checked~label.sk-toggleable__label {background-color: #d4ebff;}#sk-container-id-3 input.sk-hidden--visually {border: 0;clip: rect(1px 1px 1px 1px);clip: rect(1px, 1px, 1px, 1px);height: 1px;margin: -1px;overflow: hidden;padding: 0;position: absolute;width: 1px;}#sk-container-id-3 div.sk-estimator {font-family: monospace;background-color: #f0f8ff;border: 1px dotted black;border-radius: 0.25em;box-sizing: border-box;margin-bottom: 0.5em;}#sk-container-id-3 div.sk-estimator:hover {background-color: #d4ebff;}#sk-container-id-3 div.sk-parallel-item::after {content: \"\";width: 100%;border-bottom: 1px solid gray;flex-grow: 1;}#sk-container-id-3 div.sk-label:hover label.sk-toggleable__label {background-color: #d4ebff;}#sk-container-id-3 div.sk-serial::before {content: \"\";position: absolute;border-left: 1px solid gray;box-sizing: border-box;top: 0;bottom: 0;left: 50%;z-index: 0;}#sk-container-id-3 div.sk-serial {display: flex;flex-direction: column;align-items: center;background-color: white;padding-right: 0.2em;padding-left: 0.2em;position: relative;}#sk-container-id-3 div.sk-item {position: relative;z-index: 1;}#sk-container-id-3 div.sk-parallel {display: flex;align-items: stretch;justify-content: center;background-color: white;position: relative;}#sk-container-id-3 div.sk-item::before, #sk-container-id-3 div.sk-parallel-item::before {content: \"\";position: absolute;border-left: 1px solid gray;box-sizing: border-box;top: 0;bottom: 0;left: 50%;z-index: -1;}#sk-container-id-3 div.sk-parallel-item {display: flex;flex-direction: column;z-index: 1;position: relative;background-color: white;}#sk-container-id-3 div.sk-parallel-item:first-child::after {align-self: flex-end;width: 50%;}#sk-container-id-3 div.sk-parallel-item:last-child::after {align-self: flex-start;width: 50%;}#sk-container-id-3 div.sk-parallel-item:only-child::after {width: 0;}#sk-container-id-3 div.sk-dashed-wrapped {border: 1px dashed gray;margin: 0 0.4em 0.5em 0.4em;box-sizing: border-box;padding-bottom: 0.4em;background-color: white;}#sk-container-id-3 div.sk-label label {font-family: monospace;font-weight: bold;display: inline-block;line-height: 1.2em;}#sk-container-id-3 div.sk-label-container {text-align: center;}#sk-container-id-3 div.sk-container {/* jupyter's `normalize.less` sets `[hidden] { display: none; }` but bootstrap.min.css set `[hidden] { display: none !important; }` so we also need the `!important` here to be able to override the default hidden behavior on the sphinx rendered scikit-learn.org. See: https://github.com/scikit-learn/scikit-learn/issues/21755 */display: inline-block !important;position: relative;}#sk-container-id-3 div.sk-text-repr-fallback {display: none;}</style><div id=\"sk-container-id-3\" class=\"sk-top-container\"><div class=\"sk-text-repr-fallback\"><pre>RandomForestClassifier()</pre><b>In a Jupyter environment, please rerun this cell to show the HTML representation or trust the notebook. <br />On GitHub, the HTML representation is unable to render, please try loading this page with nbviewer.org.</b></div><div class=\"sk-container\" hidden><div class=\"sk-item\"><div class=\"sk-estimator sk-toggleable\"><input class=\"sk-toggleable__control sk-hidden--visually\" id=\"sk-estimator-id-3\" type=\"checkbox\" checked><label for=\"sk-estimator-id-3\" class=\"sk-toggleable__label sk-toggleable__label-arrow\">RandomForestClassifier</label><div class=\"sk-toggleable__content\"><pre>RandomForestClassifier()</pre></div></div></div></div></div>"
            ]
          },
          "metadata": {},
          "execution_count": 53
        }
      ],
      "source": [
        "RF.fit(feature_train, label_train)"
      ]
    },
    {
      "cell_type": "code",
      "execution_count": null,
      "id": "1479d452",
      "metadata": {
        "execution": {
          "iopub.execute_input": "2024-02-08T12:56:17.101332Z",
          "iopub.status.busy": "2024-02-08T12:56:17.100962Z",
          "iopub.status.idle": "2024-02-08T12:56:17.151320Z",
          "shell.execute_reply": "2024-02-08T12:56:17.150206Z"
        },
        "papermill": {
          "duration": 0.123673,
          "end_time": "2024-02-08T12:56:17.153898",
          "exception": false,
          "start_time": "2024-02-08T12:56:17.030225",
          "status": "completed"
        },
        "tags": [],
        "id": "1479d452"
      },
      "outputs": [],
      "source": [
        "rf_prediction = RF.predict(feature_test)"
      ]
    },
    {
      "cell_type": "code",
      "execution_count": null,
      "id": "de9e9982",
      "metadata": {
        "execution": {
          "iopub.execute_input": "2024-02-08T12:56:17.295389Z",
          "iopub.status.busy": "2024-02-08T12:56:17.294996Z",
          "iopub.status.idle": "2024-02-08T12:56:17.303049Z",
          "shell.execute_reply": "2024-02-08T12:56:17.301970Z"
        },
        "papermill": {
          "duration": 0.080608,
          "end_time": "2024-02-08T12:56:17.305035",
          "exception": false,
          "start_time": "2024-02-08T12:56:17.224427",
          "status": "completed"
        },
        "tags": [],
        "colab": {
          "base_uri": "https://localhost:8080/"
        },
        "id": "de9e9982",
        "outputId": "55e2e0f4-a852-4ce2-e40a-04a773472afd"
      },
      "outputs": [
        {
          "output_type": "execute_result",
          "data": {
            "text/plain": [
              "87.05000000000001"
            ]
          },
          "metadata": {},
          "execution_count": 55
        }
      ],
      "source": [
        "accuracy_score(label_test, rf_prediction) * 100"
      ]
    },
    {
      "cell_type": "code",
      "execution_count": null,
      "id": "e42d0784",
      "metadata": {
        "execution": {
          "iopub.execute_input": "2024-02-08T12:56:17.445631Z",
          "iopub.status.busy": "2024-02-08T12:56:17.444670Z",
          "iopub.status.idle": "2024-02-08T12:56:17.459677Z",
          "shell.execute_reply": "2024-02-08T12:56:17.458536Z"
        },
        "papermill": {
          "duration": 0.087844,
          "end_time": "2024-02-08T12:56:17.461999",
          "exception": false,
          "start_time": "2024-02-08T12:56:17.374155",
          "status": "completed"
        },
        "tags": [],
        "colab": {
          "base_uri": "https://localhost:8080/"
        },
        "id": "e42d0784",
        "outputId": "af29e003-ea4e-463e-9211-9bc6a1fd2f1e"
      },
      "outputs": [
        {
          "output_type": "stream",
          "name": "stdout",
          "text": [
            "              precision    recall  f1-score   support\n",
            "\n",
            "           0       0.89      0.96      0.92      1595\n",
            "           1       0.77      0.52      0.62       405\n",
            "\n",
            "    accuracy                           0.87      2000\n",
            "   macro avg       0.83      0.74      0.77      2000\n",
            "weighted avg       0.86      0.87      0.86      2000\n",
            "\n"
          ]
        }
      ],
      "source": [
        "print(classification_report(label_test, rf_prediction))"
      ]
    },
    {
      "cell_type": "code",
      "execution_count": null,
      "id": "7603e9f2",
      "metadata": {
        "execution": {
          "iopub.execute_input": "2024-02-08T12:56:17.602837Z",
          "iopub.status.busy": "2024-02-08T12:56:17.601785Z",
          "iopub.status.idle": "2024-02-08T12:56:17.878118Z",
          "shell.execute_reply": "2024-02-08T12:56:17.877187Z"
        },
        "papermill": {
          "duration": 0.348223,
          "end_time": "2024-02-08T12:56:17.880153",
          "exception": false,
          "start_time": "2024-02-08T12:56:17.531930",
          "status": "completed"
        },
        "tags": [],
        "colab": {
          "base_uri": "https://localhost:8080/",
          "height": 476
        },
        "id": "7603e9f2",
        "outputId": "c7d75c03-92b2-4e9c-822e-08d3b7433b73"
      },
      "outputs": [
        {
          "output_type": "execute_result",
          "data": {
            "text/plain": [
              "<sklearn.metrics._plot.confusion_matrix.ConfusionMatrixDisplay at 0x7e1211502b30>"
            ]
          },
          "metadata": {},
          "execution_count": 57
        },
        {
          "output_type": "display_data",
          "data": {
            "text/plain": [
              "<Figure size 640x480 with 2 Axes>"
            ],
            "image/png": "[encoded data removed]"
          },
          "metadata": {}
        }
      ],
      "source": [
        "ConfusionMatrixDisplay(confusion_matrix(label_test, rf_prediction),display_labels=RF.classes_).plot()"
      ]
    }
  ],
  "metadata": {
    "kaggle": {
      "accelerator": "none",
      "dataSources": [
        {
          "datasetId": 3191230,
          "sourceId": 5536933,
          "sourceType": "datasetVersion"
        }
      ],
      "dockerImageVersionId": 30646,
      "isGpuEnabled": false,
      "isInternetEnabled": true,
      "language": "python",
      "sourceType": "notebook"
    },
    "kernelspec": {
      "display_name": "Python 3",
      "language": "python",
      "name": "python3"
    },
    "language_info": {
      "codemirror_mode": {
        "name": "ipython",
        "version": 3
      },
      "file_extension": ".py",
      "mimetype": "text/x-python",
      "name": "python",
      "nbconvert_exporter": "python",
      "pygments_lexer": "ipython3",
      "version": "3.10.13"
    },
    "papermill": {
      "default_parameters": {},
      "duration": 43.857998,
      "end_time": "2024-02-08T12:56:19.217664",
      "environment_variables": {},
      "exception": null,
      "input_path": "__notebook__.ipynb",
      "output_path": "__notebook__.ipynb",
      "parameters": {},
      "start_time": "2024-02-08T12:55:35.359666",
      "version": "2.5.0"
    },
    "colab": {
      "provenance": []
    }
  },
  "nbformat": 4,
  "nbformat_minor": 5
}
